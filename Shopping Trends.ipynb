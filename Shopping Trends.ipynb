{
 "cells": [
  {
   "cell_type": "markdown",
   "id": "b1d04df4",
   "metadata": {},
   "source": [
    "**Customer Shopping Trends handling categorical targte values** <br>\n",
    "https://www.kaggle.com/datasets/iamsouravbanerjee/customer-shopping-trends-dataset <br>\n",
    "\n",
    "Worked with categorical target values and explored converting the categories to ordinal values. Implemented Decision Tree on the unbalanced and balanced data and compared the results. At the end used mutual information matrix to see how informative our features are.\n"
   ]
  },
  {
   "cell_type": "code",
   "execution_count": 134,
   "id": "0f044398-1e2a-42c1-8c4c-2fe2c8ba0433",
   "metadata": {},
   "outputs": [
    {
     "name": "stderr",
     "output_type": "stream",
     "text": [
      "Loading required package: grid\n",
      "\n",
      "Loading required package: libcoin\n",
      "\n",
      "Loading required package: mvtnorm\n",
      "\n"
     ]
    }
   ],
   "source": [
    "library(caret)\n",
    "library(rpart)\n",
    "library(rpart.plot)\n",
    "library(partykit)"
   ]
  },
  {
   "cell_type": "code",
   "execution_count": 135,
   "id": "fa1f0ac8",
   "metadata": {
    "scrolled": true
   },
   "outputs": [],
   "source": [
    "st = read.csv(\"shopping_trends.csv\", stringsAsFactors = TRUE)"
   ]
  },
  {
   "cell_type": "code",
   "execution_count": 136,
   "id": "58d8c178",
   "metadata": {},
   "outputs": [
    {
     "data": {
      "text/html": [
       "0"
      ],
      "text/latex": [
       "0"
      ],
      "text/markdown": [
       "0"
      ],
      "text/plain": [
       "[1] 0"
      ]
     },
     "metadata": {},
     "output_type": "display_data"
    }
   ],
   "source": [
    "#Check to see if there is any null value\n",
    "sum(is.na(st))"
   ]
  },
  {
   "cell_type": "code",
   "execution_count": 137,
   "id": "d3f0938f-4f49-4616-bc1b-2c00940c270e",
   "metadata": {},
   "outputs": [
    {
     "data": {
      "text/plain": [
       "\n",
       "      Annually      Bi-Weekly Every 3 Months    Fortnightly        Monthly \n",
       "           572            547            584            542            553 \n",
       "     Quarterly         Weekly \n",
       "           563            539 "
      ]
     },
     "metadata": {},
     "output_type": "display_data"
    }
   ],
   "source": [
    "#frequency table of the Frequency.of.Purchases column\n",
    "table(st$Frequency.of.Purchases)"
   ]
  },
  {
   "cell_type": "markdown",
   "id": "200c43d1-23c7-46cc-9e55-0fc12ed35c02",
   "metadata": {},
   "source": [
    "**Encode the Frequency.of.Purchases column**"
   ]
  },
  {
   "cell_type": "code",
   "execution_count": 138,
   "id": "cafcc714-a128-496f-80b9-39ecf2482885",
   "metadata": {},
   "outputs": [
    {
     "data": {
      "text/html": [
       "<style>\n",
       ".list-inline {list-style: none; margin:0; padding: 0}\n",
       ".list-inline>li {display: inline-block}\n",
       ".list-inline>li:not(:last-child)::after {content: \"\\00b7\"; padding: 0 .5ex}\n",
       "</style>\n",
       "<ol class=list-inline><li>'Annually'</li><li>'Bi-Weekly'</li><li>'Every 3 Months'</li><li>'Fortnightly'</li><li>'Monthly'</li><li>'Quarterly'</li><li>'Weekly'</li></ol>\n"
      ],
      "text/latex": [
       "\\begin{enumerate*}\n",
       "\\item 'Annually'\n",
       "\\item 'Bi-Weekly'\n",
       "\\item 'Every 3 Months'\n",
       "\\item 'Fortnightly'\n",
       "\\item 'Monthly'\n",
       "\\item 'Quarterly'\n",
       "\\item 'Weekly'\n",
       "\\end{enumerate*}\n"
      ],
      "text/markdown": [
       "1. 'Annually'\n",
       "2. 'Bi-Weekly'\n",
       "3. 'Every 3 Months'\n",
       "4. 'Fortnightly'\n",
       "5. 'Monthly'\n",
       "6. 'Quarterly'\n",
       "7. 'Weekly'\n",
       "\n",
       "\n"
      ],
      "text/plain": [
       "[1] \"Annually\"       \"Bi-Weekly\"      \"Every 3 Months\" \"Fortnightly\"   \n",
       "[5] \"Monthly\"        \"Quarterly\"      \"Weekly\"        "
      ]
     },
     "metadata": {},
     "output_type": "display_data"
    }
   ],
   "source": [
    "levels(st$Frequency.of.Purchases)"
   ]
  },
  {
   "cell_type": "markdown",
   "id": "f73b5054-84ee-48de-aae1-ce4612f5d281",
   "metadata": {},
   "source": [
    "Bi_Weekly and Fortnightly are synonyms.\n",
    "Every 3 Months and Quarterly are synonyms. \\\n",
    "Therefore we will map these levels to the equivalent values as the period length in days: \\\n",
    "\n",
    "'Annually'--> 365 \\\n",
    "'Bi-Weekly'-->14 \\\n",
    "'Every 3 Months'-->90 \\\n",
    "'Fortnightly'-->14 \\\n",
    "'Monthly'-->30 \\\n",
    "'Quarterly'-->90 \\\n",
    "'Weekly'-->7 \r\n"
   ]
  },
  {
   "cell_type": "markdown",
   "id": "d34668e1-059b-4a8c-9687-40e0aefcaaa3",
   "metadata": {},
   "source": [
    "**Ordinal Factor**"
   ]
  },
  {
   "cell_type": "code",
   "execution_count": 139,
   "id": "cd152692-6bb1-4838-9b52-7e4b9993a403",
   "metadata": {},
   "outputs": [
    {
     "data": {
      "text/html": [
       "<table class=\"dataframe\">\n",
       "<caption>A data.frame: 6 × 19</caption>\n",
       "<thead>\n",
       "\t<tr><th></th><th scope=col>Customer.ID</th><th scope=col>Age</th><th scope=col>Gender</th><th scope=col>Item.Purchased</th><th scope=col>Category</th><th scope=col>Purchase.Amount..USD.</th><th scope=col>Location</th><th scope=col>Size</th><th scope=col>Color</th><th scope=col>Season</th><th scope=col>Review.Rating</th><th scope=col>Subscription.Status</th><th scope=col>Payment.Method</th><th scope=col>Shipping.Type</th><th scope=col>Discount.Applied</th><th scope=col>Promo.Code.Used</th><th scope=col>Previous.Purchases</th><th scope=col>Preferred.Payment.Method</th><th scope=col>Frequency.of.Purchases</th></tr>\n",
       "\t<tr><th></th><th scope=col>&lt;int&gt;</th><th scope=col>&lt;int&gt;</th><th scope=col>&lt;fct&gt;</th><th scope=col>&lt;fct&gt;</th><th scope=col>&lt;fct&gt;</th><th scope=col>&lt;int&gt;</th><th scope=col>&lt;fct&gt;</th><th scope=col>&lt;fct&gt;</th><th scope=col>&lt;fct&gt;</th><th scope=col>&lt;fct&gt;</th><th scope=col>&lt;dbl&gt;</th><th scope=col>&lt;fct&gt;</th><th scope=col>&lt;fct&gt;</th><th scope=col>&lt;fct&gt;</th><th scope=col>&lt;fct&gt;</th><th scope=col>&lt;fct&gt;</th><th scope=col>&lt;int&gt;</th><th scope=col>&lt;fct&gt;</th><th scope=col>&lt;ord&gt;</th></tr>\n",
       "</thead>\n",
       "<tbody>\n",
       "\t<tr><th scope=row>1</th><td>1</td><td>55</td><td>Male</td><td>Blouse  </td><td>Clothing</td><td>53</td><td>Kentucky     </td><td>L</td><td>Gray     </td><td>Winter</td><td>3.1</td><td>Yes</td><td>Credit Card  </td><td>Express      </td><td>Yes</td><td>Yes</td><td>14</td><td>Venmo      </td><td>14 </td></tr>\n",
       "\t<tr><th scope=row>2</th><td>2</td><td>19</td><td>Male</td><td>Sweater </td><td>Clothing</td><td>64</td><td>Maine        </td><td>L</td><td>Maroon   </td><td>Winter</td><td>3.1</td><td>Yes</td><td>Bank Transfer</td><td>Express      </td><td>Yes</td><td>Yes</td><td> 2</td><td>Cash       </td><td>14 </td></tr>\n",
       "\t<tr><th scope=row>3</th><td>3</td><td>50</td><td>Male</td><td>Jeans   </td><td>Clothing</td><td>73</td><td>Massachusetts</td><td>S</td><td>Maroon   </td><td>Spring</td><td>3.1</td><td>Yes</td><td>Cash         </td><td>Free Shipping</td><td>Yes</td><td>Yes</td><td>23</td><td>Credit Card</td><td>7  </td></tr>\n",
       "\t<tr><th scope=row>4</th><td>4</td><td>21</td><td>Male</td><td>Sandals </td><td>Footwear</td><td>90</td><td>Rhode Island </td><td>M</td><td>Maroon   </td><td>Spring</td><td>3.5</td><td>Yes</td><td>PayPal       </td><td>Next Day Air </td><td>Yes</td><td>Yes</td><td>49</td><td>PayPal     </td><td>7  </td></tr>\n",
       "\t<tr><th scope=row>5</th><td>5</td><td>45</td><td>Male</td><td>Blouse  </td><td>Clothing</td><td>49</td><td>Oregon       </td><td>M</td><td>Turquoise</td><td>Spring</td><td>2.7</td><td>Yes</td><td>Cash         </td><td>Free Shipping</td><td>Yes</td><td>Yes</td><td>31</td><td>PayPal     </td><td>365</td></tr>\n",
       "\t<tr><th scope=row>6</th><td>6</td><td>46</td><td>Male</td><td>Sneakers</td><td>Footwear</td><td>20</td><td>Wyoming      </td><td>M</td><td>White    </td><td>Summer</td><td>2.9</td><td>Yes</td><td>Venmo        </td><td>Standard     </td><td>Yes</td><td>Yes</td><td>14</td><td>Venmo      </td><td>7  </td></tr>\n",
       "</tbody>\n",
       "</table>\n"
      ],
      "text/latex": [
       "A data.frame: 6 × 19\n",
       "\\begin{tabular}{r|lllllllllllllllllll}\n",
       "  & Customer.ID & Age & Gender & Item.Purchased & Category & Purchase.Amount..USD. & Location & Size & Color & Season & Review.Rating & Subscription.Status & Payment.Method & Shipping.Type & Discount.Applied & Promo.Code.Used & Previous.Purchases & Preferred.Payment.Method & Frequency.of.Purchases\\\\\n",
       "  & <int> & <int> & <fct> & <fct> & <fct> & <int> & <fct> & <fct> & <fct> & <fct> & <dbl> & <fct> & <fct> & <fct> & <fct> & <fct> & <int> & <fct> & <ord>\\\\\n",
       "\\hline\n",
       "\t1 & 1 & 55 & Male & Blouse   & Clothing & 53 & Kentucky      & L & Gray      & Winter & 3.1 & Yes & Credit Card   & Express       & Yes & Yes & 14 & Venmo       & 14 \\\\\n",
       "\t2 & 2 & 19 & Male & Sweater  & Clothing & 64 & Maine         & L & Maroon    & Winter & 3.1 & Yes & Bank Transfer & Express       & Yes & Yes &  2 & Cash        & 14 \\\\\n",
       "\t3 & 3 & 50 & Male & Jeans    & Clothing & 73 & Massachusetts & S & Maroon    & Spring & 3.1 & Yes & Cash          & Free Shipping & Yes & Yes & 23 & Credit Card & 7  \\\\\n",
       "\t4 & 4 & 21 & Male & Sandals  & Footwear & 90 & Rhode Island  & M & Maroon    & Spring & 3.5 & Yes & PayPal        & Next Day Air  & Yes & Yes & 49 & PayPal      & 7  \\\\\n",
       "\t5 & 5 & 45 & Male & Blouse   & Clothing & 49 & Oregon        & M & Turquoise & Spring & 2.7 & Yes & Cash          & Free Shipping & Yes & Yes & 31 & PayPal      & 365\\\\\n",
       "\t6 & 6 & 46 & Male & Sneakers & Footwear & 20 & Wyoming       & M & White     & Summer & 2.9 & Yes & Venmo         & Standard      & Yes & Yes & 14 & Venmo       & 7  \\\\\n",
       "\\end{tabular}\n"
      ],
      "text/markdown": [
       "\n",
       "A data.frame: 6 × 19\n",
       "\n",
       "| <!--/--> | Customer.ID &lt;int&gt; | Age &lt;int&gt; | Gender &lt;fct&gt; | Item.Purchased &lt;fct&gt; | Category &lt;fct&gt; | Purchase.Amount..USD. &lt;int&gt; | Location &lt;fct&gt; | Size &lt;fct&gt; | Color &lt;fct&gt; | Season &lt;fct&gt; | Review.Rating &lt;dbl&gt; | Subscription.Status &lt;fct&gt; | Payment.Method &lt;fct&gt; | Shipping.Type &lt;fct&gt; | Discount.Applied &lt;fct&gt; | Promo.Code.Used &lt;fct&gt; | Previous.Purchases &lt;int&gt; | Preferred.Payment.Method &lt;fct&gt; | Frequency.of.Purchases &lt;ord&gt; |\n",
       "|---|---|---|---|---|---|---|---|---|---|---|---|---|---|---|---|---|---|---|---|\n",
       "| 1 | 1 | 55 | Male | Blouse   | Clothing | 53 | Kentucky      | L | Gray      | Winter | 3.1 | Yes | Credit Card   | Express       | Yes | Yes | 14 | Venmo       | 14  |\n",
       "| 2 | 2 | 19 | Male | Sweater  | Clothing | 64 | Maine         | L | Maroon    | Winter | 3.1 | Yes | Bank Transfer | Express       | Yes | Yes |  2 | Cash        | 14  |\n",
       "| 3 | 3 | 50 | Male | Jeans    | Clothing | 73 | Massachusetts | S | Maroon    | Spring | 3.1 | Yes | Cash          | Free Shipping | Yes | Yes | 23 | Credit Card | 7   |\n",
       "| 4 | 4 | 21 | Male | Sandals  | Footwear | 90 | Rhode Island  | M | Maroon    | Spring | 3.5 | Yes | PayPal        | Next Day Air  | Yes | Yes | 49 | PayPal      | 7   |\n",
       "| 5 | 5 | 45 | Male | Blouse   | Clothing | 49 | Oregon        | M | Turquoise | Spring | 2.7 | Yes | Cash          | Free Shipping | Yes | Yes | 31 | PayPal      | 365 |\n",
       "| 6 | 6 | 46 | Male | Sneakers | Footwear | 20 | Wyoming       | M | White     | Summer | 2.9 | Yes | Venmo         | Standard      | Yes | Yes | 14 | Venmo       | 7   |\n",
       "\n"
      ],
      "text/plain": [
       "  Customer.ID Age Gender Item.Purchased Category Purchase.Amount..USD.\n",
       "1 1           55  Male   Blouse         Clothing 53                   \n",
       "2 2           19  Male   Sweater        Clothing 64                   \n",
       "3 3           50  Male   Jeans          Clothing 73                   \n",
       "4 4           21  Male   Sandals        Footwear 90                   \n",
       "5 5           45  Male   Blouse         Clothing 49                   \n",
       "6 6           46  Male   Sneakers       Footwear 20                   \n",
       "  Location      Size Color     Season Review.Rating Subscription.Status\n",
       "1 Kentucky      L    Gray      Winter 3.1           Yes                \n",
       "2 Maine         L    Maroon    Winter 3.1           Yes                \n",
       "3 Massachusetts S    Maroon    Spring 3.1           Yes                \n",
       "4 Rhode Island  M    Maroon    Spring 3.5           Yes                \n",
       "5 Oregon        M    Turquoise Spring 2.7           Yes                \n",
       "6 Wyoming       M    White     Summer 2.9           Yes                \n",
       "  Payment.Method Shipping.Type Discount.Applied Promo.Code.Used\n",
       "1 Credit Card    Express       Yes              Yes            \n",
       "2 Bank Transfer  Express       Yes              Yes            \n",
       "3 Cash           Free Shipping Yes              Yes            \n",
       "4 PayPal         Next Day Air  Yes              Yes            \n",
       "5 Cash           Free Shipping Yes              Yes            \n",
       "6 Venmo          Standard      Yes              Yes            \n",
       "  Previous.Purchases Preferred.Payment.Method Frequency.of.Purchases\n",
       "1 14                 Venmo                    14                    \n",
       "2  2                 Cash                     14                    \n",
       "3 23                 Credit Card              7                     \n",
       "4 49                 PayPal                   7                     \n",
       "5 31                 PayPal                   365                   \n",
       "6 14                 Venmo                    7                     "
      ]
     },
     "metadata": {},
     "output_type": "display_data"
    }
   ],
   "source": [
    "#Eliminate duplicated categories\n",
    "st$Frequency.of.Purchases[which(st$Frequency.of.Purchases == \"Fortnightly\")] = \"Bi-Weekly\"\n",
    "st$Frequency.of.Purchases[which(st$Frequency.of.Purchases == \"Every 3 Months\")] = \"Quarterly\"\n",
    "\n",
    "#Convert to numerical values equivalent to the time frequencies. And then turn it to an ordinal factor column\n",
    "levels(st$Frequency.of.Purchases) = as.character(c(365, 14, 90, 14, 30, 90, 7))\n",
    "st$Frequency.of.Purchases = factor(st$Frequency.of.Purchases, order = TRUE, levels = c(\"7\", \"14\", \"30\", \"90\", \"365\"))\n",
    "head(st)"
   ]
  },
  {
   "cell_type": "code",
   "execution_count": 140,
   "id": "2df3ee5b-315a-4464-85ae-0e295dfeac30",
   "metadata": {},
   "outputs": [
    {
     "data": {
      "text/html": [
       "<style>\n",
       ".list-inline {list-style: none; margin:0; padding: 0}\n",
       ".list-inline>li {display: inline-block}\n",
       ".list-inline>li:not(:last-child)::after {content: \"\\00b7\"; padding: 0 .5ex}\n",
       "</style>\n",
       "<ol class=list-inline><li>'ordered'</li><li>'factor'</li></ol>\n"
      ],
      "text/latex": [
       "\\begin{enumerate*}\n",
       "\\item 'ordered'\n",
       "\\item 'factor'\n",
       "\\end{enumerate*}\n"
      ],
      "text/markdown": [
       "1. 'ordered'\n",
       "2. 'factor'\n",
       "\n",
       "\n"
      ],
      "text/plain": [
       "[1] \"ordered\" \"factor\" "
      ]
     },
     "metadata": {},
     "output_type": "display_data"
    }
   ],
   "source": [
    "class(st$Frequency.of.Purchases)"
   ]
  },
  {
   "cell_type": "code",
   "execution_count": 141,
   "id": "b7dab6eb-d233-47ef-9864-e980cd2c06e0",
   "metadata": {},
   "outputs": [
    {
     "data": {
      "text/plain": [
       "\n",
       "   7   14   30   90  365 \n",
       " 539 1089  553 1147  572 "
      ]
     },
     "metadata": {},
     "output_type": "display_data"
    }
   ],
   "source": [
    "table(st$Frequency.of.Purchases )"
   ]
  },
  {
   "cell_type": "markdown",
   "id": "a66dccae-bf18-4438-bc0f-39bcda05cdeb",
   "metadata": {},
   "source": [
    "Notice that the frequency of 14 and 90 is almost double the 7, 30 and 365."
   ]
  },
  {
   "cell_type": "markdown",
   "id": "0046be97-c874-4697-8595-3de1070981e1",
   "metadata": {},
   "source": [
    "**Split the data into train and test**"
   ]
  },
  {
   "cell_type": "code",
   "execution_count": 142,
   "id": "70e78f8e-2f58-43ed-a27e-3bdd7287f5da",
   "metadata": {},
   "outputs": [],
   "source": [
    "#drop Location column because it has too many categories and does not work with our decision tree\n",
    "#drop Customer.ID column since it is not helpful in our prediciton\n",
    "set.seed(12)\n",
    "train_rows = sample(nrow(st), nrow(st) * 0.7)\n",
    "st_train = st[train_rows,-c(1, 7)]\n",
    "st_test = st[-train_rows,-c(1, 7)]"
   ]
  },
  {
   "cell_type": "markdown",
   "id": "775f9b77-c753-4693-a63e-2c31c083f132",
   "metadata": {},
   "source": [
    "**Decision Tree Model**"
   ]
  },
  {
   "cell_type": "code",
   "execution_count": 143,
   "id": "093cb80b-dfa9-44d9-b5a6-4a5cfc440f09",
   "metadata": {
    "scrolled": true
   },
   "outputs": [
    {
     "name": "stdout",
     "output_type": "stream",
     "text": [
      "Call:\n",
      "rpart(formula = Frequency.of.Purchases ~ ., data = st_train, \n",
      "    method = \"class\")\n",
      "  n= 2730 \n",
      "\n",
      "          CP nsplit rel error   xerror       xstd\n",
      "1 0.03103983      0 1.0000000 1.000000 0.01228943\n",
      "2 0.01603725      1 0.9689602 1.000000 0.01228943\n",
      "3 0.01000000      2 0.9529229 0.996896 0.01231645\n",
      "\n",
      "Variable importance\n",
      "         Color Item.Purchased       Category \n",
      "            52             40              7 \n",
      "\n",
      "Node number 1: 2730 observations,    complexity param=0.03103983\n",
      "  predicted class=90  expected loss=0.7080586  P(node) =1\n",
      "    class counts:   394   760   385   797   394\n",
      "   probabilities: 0.144 0.278 0.141 0.292 0.144 \n",
      "  left son=2 (1784 obs) right son=3 (946 obs)\n",
      "  Primary splits:\n",
      "      Color              splits as  LLLRLLRLLLLRRLRRRLLLRLLRL, improve=6.619657, (0 missing)\n",
      "      Item.Purchased     splits as  LRLLLRLRRLRRLRLLLLLRLRLLR, improve=5.518119, (0 missing)\n",
      "      Previous.Purchases < 35.5 to the left,  improve=3.801971, (0 missing)\n",
      "      Age                < 31.5 to the left,  improve=2.087637, (0 missing)\n",
      "      Payment.Method     splits as  LRLLLL, improve=1.949414, (0 missing)\n",
      "\n",
      "Node number 2: 1784 observations,    complexity param=0.01603725\n",
      "  predicted class=14  expected loss=0.6939462  P(node) =0.6534799\n",
      "    class counts:   268   546   236   486   248\n",
      "   probabilities: 0.150 0.306 0.132 0.272 0.139 \n",
      "  left son=4 (754 obs) right son=5 (1030 obs)\n",
      "  Primary splits:\n",
      "      Item.Purchased        splits as  LRRRRRLLRLRRRRLLRLLLLRRLR, improve=5.094284, (0 missing)\n",
      "      Color                 splits as  RLR-LL-RRLR--R---RLR-LL-L, improve=3.161435, (0 missing)\n",
      "      Previous.Purchases    < 33.5 to the left,  improve=2.841553, (0 missing)\n",
      "      Purchase.Amount..USD. < 95.5 to the left,  improve=2.118011, (0 missing)\n",
      "      Payment.Method        splits as  LRRLLL, improve=2.069976, (0 missing)\n",
      "  Surrogate splits:\n",
      "      Category              splits as  RRLR,     agree=0.655, adj=0.184, (0 split)\n",
      "      Purchase.Amount..USD. < 98.5 to the right, agree=0.580, adj=0.007, (0 split)\n",
      "      Age                   < 69.5 to the right, agree=0.578, adj=0.001, (0 split)\n",
      "\n",
      "Node number 3: 946 observations\n",
      "  predicted class=90  expected loss=0.6712474  P(node) =0.3465201\n",
      "    class counts:   126   214   149   311   146\n",
      "   probabilities: 0.133 0.226 0.158 0.329 0.154 \n",
      "\n",
      "Node number 4: 754 observations\n",
      "  predicted class=14  expected loss=0.6472149  P(node) =0.2761905\n",
      "    class counts:   113   266   102   175    98\n",
      "   probabilities: 0.150 0.353 0.135 0.232 0.130 \n",
      "\n",
      "Node number 5: 1030 observations\n",
      "  predicted class=90  expected loss=0.6980583  P(node) =0.3772894\n",
      "    class counts:   155   280   134   311   150\n",
      "   probabilities: 0.150 0.272 0.130 0.302 0.146 \n",
      "\n"
     ]
    }
   ],
   "source": [
    "tree_model = rpart(Frequency.of.Purchases ~ ., data = st_train, method = \"class\")\n",
    "summary(tree_model)"
   ]
  },
  {
   "cell_type": "markdown",
   "id": "5c45c7e2-73f4-426e-bdc3-fb04a3136fba",
   "metadata": {},
   "source": [
    "The primary splits of our model are color, item purchased, previous purchases, age and payment method. "
   ]
  },
  {
   "cell_type": "code",
   "execution_count": 144,
   "id": "f4f0e1f6-f2eb-4fbd-aff2-3d6a302e9192",
   "metadata": {},
   "outputs": [],
   "source": [
    "#Prediction of our model on test data set\n",
    "predicted_test = predict(tree_model, newdata=st_test, type = \"class\")"
   ]
  },
  {
   "cell_type": "markdown",
   "id": "189dc1d3-32a2-4054-9e78-1f42fe3395de",
   "metadata": {},
   "source": [
    "**Visualize the tree**"
   ]
  },
  {
   "cell_type": "code",
   "execution_count": 145,
   "id": "ef951558-ab2f-42a0-bdc5-fc14f6258947",
   "metadata": {},
   "outputs": [
    {
     "data": {
      "image/png": "[encoded data removed]",
      "text/plain": [
       "plot without title"
      ]
     },
     "metadata": {
      "image/png": {
       "height": 600,
       "width": 600
      }
     },
     "output_type": "display_data"
    }
   ],
   "source": [
    "options(repr.plot.width =10 , repr.plot.height =10)\n",
    "rpart.plot(tree_model, box.palette = \"YlGnBl\" ,type =1)"
   ]
  },
  {
   "cell_type": "markdown",
   "id": "c6694e7e-17ca-4668-bd6b-dbd54f28c621",
   "metadata": {},
   "source": [
    "**Confusion Matrix**"
   ]
  },
  {
   "cell_type": "code",
   "execution_count": 146,
   "id": "39a17a64-3842-4716-a3d1-0ad990966e3c",
   "metadata": {
    "scrolled": true
   },
   "outputs": [
    {
     "data": {
      "text/plain": [
       "Confusion Matrix and Statistics\n",
       "\n",
       "          Reference\n",
       "Prediction   7  14  30  90 365\n",
       "       7     0   0   0   0   0\n",
       "       14   36  94  41 111  45\n",
       "       30    0   0   0   0   0\n",
       "       90  109 235 127 239 133\n",
       "       365   0   0   0   0   0\n",
       "\n",
       "Overall Statistics\n",
       "                                          \n",
       "               Accuracy : 0.2846          \n",
       "                 95% CI : (0.2589, 0.3114)\n",
       "    No Information Rate : 0.2991          \n",
       "    P-Value [Acc > NIR] : 0.8683          \n",
       "                                          \n",
       "                  Kappa : -0.0135         \n",
       "                                          \n",
       " Mcnemar's Test P-Value : NA              \n",
       "\n",
       "Statistics by Class:\n",
       "\n",
       "                     Class: 7 Class: 14 Class: 30 Class: 90 Class: 365\n",
       "Sensitivity            0.0000   0.28571    0.0000    0.6829     0.0000\n",
       "Specificity            1.0000   0.72295    1.0000    0.2634     1.0000\n",
       "Pos Pred Value            NaN   0.28746       NaN    0.2835        NaN\n",
       "Neg Pred Value         0.8761   0.72123    0.8564    0.6606     0.8479\n",
       "Prevalence             0.1239   0.28120    0.1436    0.2991     0.1521\n",
       "Detection Rate         0.0000   0.08034    0.0000    0.2043     0.0000\n",
       "Detection Prevalence   0.0000   0.27949    0.0000    0.7205     0.0000\n",
       "Balanced Accuracy      0.5000   0.50433    0.5000    0.4731     0.5000"
      ]
     },
     "metadata": {},
     "output_type": "display_data"
    }
   ],
   "source": [
    "confusionMatrix(predicted_test, st_test$Frequency.of.Purchases)"
   ]
  },
  {
   "cell_type": "code",
   "execution_count": 147,
   "id": "5305f2d1-c835-4732-bf85-f2da4eab95f6",
   "metadata": {},
   "outputs": [
    {
     "data": {
      "text/plain": [
       "\n",
       "  7  14  30  90 365 \n",
       "145 329 168 350 178 "
      ]
     },
     "metadata": {},
     "output_type": "display_data"
    }
   ],
   "source": [
    "#Distribution of frequency in our response value of our test set\n",
    "table(st_test$Frequency.of.Purchases)"
   ]
  },
  {
   "cell_type": "markdown",
   "id": "7d37cebd-81f4-436a-8ed0-b6bb2a72adde",
   "metadata": {},
   "source": [
    "**Discussion:**\n",
    "The tree is only predicting classes 14 and 90 (bi-weekly and quarterly), and it does not predict data as labels 7, 30 and 365 in any of its terminal nodes.\n",
    "This could be due to the higher frequency of categories 14 and 90 in our unbalanced data. And the accuracy is pretty low (28%) too."
   ]
  },
  {
   "cell_type": "markdown",
   "id": "f968badb-7ab7-4b10-84ec-48886be41402",
   "metadata": {},
   "source": [
    "**Labels, Predictions and their distances**"
   ]
  },
  {
   "cell_type": "code",
   "execution_count": 149,
   "id": "6feb90f2-8acd-40ab-9551-478254cd20b1",
   "metadata": {},
   "outputs": [
    {
     "data": {
      "text/html": [
       "<table class=\"dataframe\">\n",
       "<caption>A data.frame: 1170 × 2</caption>\n",
       "<thead>\n",
       "\t<tr><th></th><th scope=col>labels</th><th scope=col>predictions</th></tr>\n",
       "\t<tr><th></th><th scope=col>&lt;ord&gt;</th><th scope=col>&lt;fct&gt;</th></tr>\n",
       "</thead>\n",
       "<tbody>\n",
       "\t<tr><th scope=row>2</th><td>14 </td><td>90</td></tr>\n",
       "\t<tr><th scope=row>5</th><td>365</td><td>90</td></tr>\n",
       "\t<tr><th scope=row>6</th><td>7  </td><td>90</td></tr>\n",
       "\t<tr><th scope=row>12</th><td>14 </td><td>14</td></tr>\n",
       "\t<tr><th scope=row>13</th><td>14 </td><td>90</td></tr>\n",
       "\t<tr><th scope=row>21</th><td>90 </td><td>90</td></tr>\n",
       "\t<tr><th scope=row>22</th><td>90 </td><td>90</td></tr>\n",
       "\t<tr><th scope=row>29</th><td>90 </td><td>14</td></tr>\n",
       "\t<tr><th scope=row>32</th><td>30 </td><td>90</td></tr>\n",
       "\t<tr><th scope=row>36</th><td>14 </td><td>90</td></tr>\n",
       "\t<tr><th scope=row>39</th><td>90 </td><td>90</td></tr>\n",
       "\t<tr><th scope=row>43</th><td>365</td><td>90</td></tr>\n",
       "\t<tr><th scope=row>47</th><td>90 </td><td>90</td></tr>\n",
       "\t<tr><th scope=row>49</th><td>30 </td><td>90</td></tr>\n",
       "\t<tr><th scope=row>57</th><td>7  </td><td>90</td></tr>\n",
       "\t<tr><th scope=row>59</th><td>30 </td><td>14</td></tr>\n",
       "\t<tr><th scope=row>60</th><td>7  </td><td>90</td></tr>\n",
       "\t<tr><th scope=row>61</th><td>7  </td><td>90</td></tr>\n",
       "\t<tr><th scope=row>63</th><td>14 </td><td>90</td></tr>\n",
       "\t<tr><th scope=row>65</th><td>14 </td><td>90</td></tr>\n",
       "\t<tr><th scope=row>68</th><td>30 </td><td>90</td></tr>\n",
       "\t<tr><th scope=row>69</th><td>90 </td><td>14</td></tr>\n",
       "\t<tr><th scope=row>70</th><td>7  </td><td>90</td></tr>\n",
       "\t<tr><th scope=row>75</th><td>30 </td><td>14</td></tr>\n",
       "\t<tr><th scope=row>76</th><td>365</td><td>14</td></tr>\n",
       "\t<tr><th scope=row>78</th><td>14 </td><td>90</td></tr>\n",
       "\t<tr><th scope=row>79</th><td>14 </td><td>90</td></tr>\n",
       "\t<tr><th scope=row>80</th><td>90 </td><td>90</td></tr>\n",
       "\t<tr><th scope=row>83</th><td>90 </td><td>90</td></tr>\n",
       "\t<tr><th scope=row>90</th><td>90 </td><td>90</td></tr>\n",
       "\t<tr><th scope=row>⋮</th><td>⋮</td><td>⋮</td></tr>\n",
       "\t<tr><th scope=row>3820</th><td>90 </td><td>90</td></tr>\n",
       "\t<tr><th scope=row>3821</th><td>90 </td><td>90</td></tr>\n",
       "\t<tr><th scope=row>3823</th><td>90 </td><td>90</td></tr>\n",
       "\t<tr><th scope=row>3825</th><td>90 </td><td>14</td></tr>\n",
       "\t<tr><th scope=row>3826</th><td>14 </td><td>14</td></tr>\n",
       "\t<tr><th scope=row>3832</th><td>90 </td><td>14</td></tr>\n",
       "\t<tr><th scope=row>3834</th><td>90 </td><td>90</td></tr>\n",
       "\t<tr><th scope=row>3842</th><td>30 </td><td>90</td></tr>\n",
       "\t<tr><th scope=row>3843</th><td>30 </td><td>90</td></tr>\n",
       "\t<tr><th scope=row>3845</th><td>90 </td><td>14</td></tr>\n",
       "\t<tr><th scope=row>3848</th><td>14 </td><td>14</td></tr>\n",
       "\t<tr><th scope=row>3849</th><td>90 </td><td>90</td></tr>\n",
       "\t<tr><th scope=row>3852</th><td>365</td><td>90</td></tr>\n",
       "\t<tr><th scope=row>3853</th><td>7  </td><td>90</td></tr>\n",
       "\t<tr><th scope=row>3854</th><td>14 </td><td>90</td></tr>\n",
       "\t<tr><th scope=row>3856</th><td>90 </td><td>90</td></tr>\n",
       "\t<tr><th scope=row>3859</th><td>90 </td><td>90</td></tr>\n",
       "\t<tr><th scope=row>3863</th><td>30 </td><td>90</td></tr>\n",
       "\t<tr><th scope=row>3865</th><td>14 </td><td>90</td></tr>\n",
       "\t<tr><th scope=row>3868</th><td>30 </td><td>90</td></tr>\n",
       "\t<tr><th scope=row>3869</th><td>365</td><td>90</td></tr>\n",
       "\t<tr><th scope=row>3876</th><td>365</td><td>90</td></tr>\n",
       "\t<tr><th scope=row>3878</th><td>30 </td><td>14</td></tr>\n",
       "\t<tr><th scope=row>3881</th><td>30 </td><td>90</td></tr>\n",
       "\t<tr><th scope=row>3887</th><td>90 </td><td>90</td></tr>\n",
       "\t<tr><th scope=row>3889</th><td>14 </td><td>14</td></tr>\n",
       "\t<tr><th scope=row>3890</th><td>365</td><td>90</td></tr>\n",
       "\t<tr><th scope=row>3893</th><td>14 </td><td>90</td></tr>\n",
       "\t<tr><th scope=row>3898</th><td>90 </td><td>90</td></tr>\n",
       "\t<tr><th scope=row>3899</th><td>7  </td><td>90</td></tr>\n",
       "</tbody>\n",
       "</table>\n"
      ],
      "text/latex": [
       "A data.frame: 1170 × 2\n",
       "\\begin{tabular}{r|ll}\n",
       "  & labels & predictions\\\\\n",
       "  & <ord> & <fct>\\\\\n",
       "\\hline\n",
       "\t2 & 14  & 90\\\\\n",
       "\t5 & 365 & 90\\\\\n",
       "\t6 & 7   & 90\\\\\n",
       "\t12 & 14  & 14\\\\\n",
       "\t13 & 14  & 90\\\\\n",
       "\t21 & 90  & 90\\\\\n",
       "\t22 & 90  & 90\\\\\n",
       "\t29 & 90  & 14\\\\\n",
       "\t32 & 30  & 90\\\\\n",
       "\t36 & 14  & 90\\\\\n",
       "\t39 & 90  & 90\\\\\n",
       "\t43 & 365 & 90\\\\\n",
       "\t47 & 90  & 90\\\\\n",
       "\t49 & 30  & 90\\\\\n",
       "\t57 & 7   & 90\\\\\n",
       "\t59 & 30  & 14\\\\\n",
       "\t60 & 7   & 90\\\\\n",
       "\t61 & 7   & 90\\\\\n",
       "\t63 & 14  & 90\\\\\n",
       "\t65 & 14  & 90\\\\\n",
       "\t68 & 30  & 90\\\\\n",
       "\t69 & 90  & 14\\\\\n",
       "\t70 & 7   & 90\\\\\n",
       "\t75 & 30  & 14\\\\\n",
       "\t76 & 365 & 14\\\\\n",
       "\t78 & 14  & 90\\\\\n",
       "\t79 & 14  & 90\\\\\n",
       "\t80 & 90  & 90\\\\\n",
       "\t83 & 90  & 90\\\\\n",
       "\t90 & 90  & 90\\\\\n",
       "\t⋮ & ⋮ & ⋮\\\\\n",
       "\t3820 & 90  & 90\\\\\n",
       "\t3821 & 90  & 90\\\\\n",
       "\t3823 & 90  & 90\\\\\n",
       "\t3825 & 90  & 14\\\\\n",
       "\t3826 & 14  & 14\\\\\n",
       "\t3832 & 90  & 14\\\\\n",
       "\t3834 & 90  & 90\\\\\n",
       "\t3842 & 30  & 90\\\\\n",
       "\t3843 & 30  & 90\\\\\n",
       "\t3845 & 90  & 14\\\\\n",
       "\t3848 & 14  & 14\\\\\n",
       "\t3849 & 90  & 90\\\\\n",
       "\t3852 & 365 & 90\\\\\n",
       "\t3853 & 7   & 90\\\\\n",
       "\t3854 & 14  & 90\\\\\n",
       "\t3856 & 90  & 90\\\\\n",
       "\t3859 & 90  & 90\\\\\n",
       "\t3863 & 30  & 90\\\\\n",
       "\t3865 & 14  & 90\\\\\n",
       "\t3868 & 30  & 90\\\\\n",
       "\t3869 & 365 & 90\\\\\n",
       "\t3876 & 365 & 90\\\\\n",
       "\t3878 & 30  & 14\\\\\n",
       "\t3881 & 30  & 90\\\\\n",
       "\t3887 & 90  & 90\\\\\n",
       "\t3889 & 14  & 14\\\\\n",
       "\t3890 & 365 & 90\\\\\n",
       "\t3893 & 14  & 90\\\\\n",
       "\t3898 & 90  & 90\\\\\n",
       "\t3899 & 7   & 90\\\\\n",
       "\\end{tabular}\n"
      ],
      "text/markdown": [
       "\n",
       "A data.frame: 1170 × 2\n",
       "\n",
       "| <!--/--> | labels &lt;ord&gt; | predictions &lt;fct&gt; |\n",
       "|---|---|---|\n",
       "| 2 | 14  | 90 |\n",
       "| 5 | 365 | 90 |\n",
       "| 6 | 7   | 90 |\n",
       "| 12 | 14  | 14 |\n",
       "| 13 | 14  | 90 |\n",
       "| 21 | 90  | 90 |\n",
       "| 22 | 90  | 90 |\n",
       "| 29 | 90  | 14 |\n",
       "| 32 | 30  | 90 |\n",
       "| 36 | 14  | 90 |\n",
       "| 39 | 90  | 90 |\n",
       "| 43 | 365 | 90 |\n",
       "| 47 | 90  | 90 |\n",
       "| 49 | 30  | 90 |\n",
       "| 57 | 7   | 90 |\n",
       "| 59 | 30  | 14 |\n",
       "| 60 | 7   | 90 |\n",
       "| 61 | 7   | 90 |\n",
       "| 63 | 14  | 90 |\n",
       "| 65 | 14  | 90 |\n",
       "| 68 | 30  | 90 |\n",
       "| 69 | 90  | 14 |\n",
       "| 70 | 7   | 90 |\n",
       "| 75 | 30  | 14 |\n",
       "| 76 | 365 | 14 |\n",
       "| 78 | 14  | 90 |\n",
       "| 79 | 14  | 90 |\n",
       "| 80 | 90  | 90 |\n",
       "| 83 | 90  | 90 |\n",
       "| 90 | 90  | 90 |\n",
       "| ⋮ | ⋮ | ⋮ |\n",
       "| 3820 | 90  | 90 |\n",
       "| 3821 | 90  | 90 |\n",
       "| 3823 | 90  | 90 |\n",
       "| 3825 | 90  | 14 |\n",
       "| 3826 | 14  | 14 |\n",
       "| 3832 | 90  | 14 |\n",
       "| 3834 | 90  | 90 |\n",
       "| 3842 | 30  | 90 |\n",
       "| 3843 | 30  | 90 |\n",
       "| 3845 | 90  | 14 |\n",
       "| 3848 | 14  | 14 |\n",
       "| 3849 | 90  | 90 |\n",
       "| 3852 | 365 | 90 |\n",
       "| 3853 | 7   | 90 |\n",
       "| 3854 | 14  | 90 |\n",
       "| 3856 | 90  | 90 |\n",
       "| 3859 | 90  | 90 |\n",
       "| 3863 | 30  | 90 |\n",
       "| 3865 | 14  | 90 |\n",
       "| 3868 | 30  | 90 |\n",
       "| 3869 | 365 | 90 |\n",
       "| 3876 | 365 | 90 |\n",
       "| 3878 | 30  | 14 |\n",
       "| 3881 | 30  | 90 |\n",
       "| 3887 | 90  | 90 |\n",
       "| 3889 | 14  | 14 |\n",
       "| 3890 | 365 | 90 |\n",
       "| 3893 | 14  | 90 |\n",
       "| 3898 | 90  | 90 |\n",
       "| 3899 | 7   | 90 |\n",
       "\n"
      ],
      "text/plain": [
       "     labels predictions\n",
       "2    14     90         \n",
       "5    365    90         \n",
       "6    7      90         \n",
       "12   14     14         \n",
       "13   14     90         \n",
       "21   90     90         \n",
       "22   90     90         \n",
       "29   90     14         \n",
       "32   30     90         \n",
       "36   14     90         \n",
       "39   90     90         \n",
       "43   365    90         \n",
       "47   90     90         \n",
       "49   30     90         \n",
       "57   7      90         \n",
       "59   30     14         \n",
       "60   7      90         \n",
       "61   7      90         \n",
       "63   14     90         \n",
       "65   14     90         \n",
       "68   30     90         \n",
       "69   90     14         \n",
       "70   7      90         \n",
       "75   30     14         \n",
       "76   365    14         \n",
       "78   14     90         \n",
       "79   14     90         \n",
       "80   90     90         \n",
       "83   90     90         \n",
       "90   90     90         \n",
       "⋮    ⋮      ⋮          \n",
       "3820 90     90         \n",
       "3821 90     90         \n",
       "3823 90     90         \n",
       "3825 90     14         \n",
       "3826 14     14         \n",
       "3832 90     14         \n",
       "3834 90     90         \n",
       "3842 30     90         \n",
       "3843 30     90         \n",
       "3845 90     14         \n",
       "3848 14     14         \n",
       "3849 90     90         \n",
       "3852 365    90         \n",
       "3853 7      90         \n",
       "3854 14     90         \n",
       "3856 90     90         \n",
       "3859 90     90         \n",
       "3863 30     90         \n",
       "3865 14     90         \n",
       "3868 30     90         \n",
       "3869 365    90         \n",
       "3876 365    90         \n",
       "3878 30     14         \n",
       "3881 30     90         \n",
       "3887 90     90         \n",
       "3889 14     14         \n",
       "3890 365    90         \n",
       "3893 14     90         \n",
       "3898 90     90         \n",
       "3899 7      90         "
      ]
     },
     "metadata": {},
     "output_type": "display_data"
    }
   ],
   "source": [
    "#Create a dataframe showing the labels and the predictions side by side\n",
    "labels_predictions = as.data.frame(list(\"labels\" = st_test$Frequency.of.Purchases, \"predictions\" = predicted_test))\n",
    "labels_predictions"
   ]
  },
  {
   "cell_type": "code",
   "execution_count": 150,
   "id": "ea947aaa-856e-4de9-a0ff-353fefaf6068",
   "metadata": {},
   "outputs": [
    {
     "name": "stdout",
     "output_type": "stream",
     "text": [
      "[1] \"Accuracies, Inaccuracies and the Distances\"\n"
     ]
    },
    {
     "data": {
      "text/plain": [
       "\n",
       "  0   1   2   3 \n",
       "333 337 346 154 "
      ]
     },
     "metadata": {},
     "output_type": "display_data"
    }
   ],
   "source": [
    "label = labels_predictions$labels\n",
    "pred = labels_predictions$predictions\n",
    "\n",
    "#Define a function that takes an ordinal column and a vector of order and gives the ranking of each value of the column.\n",
    "checking=function(x){match(x, c(\"7\", \"14\", \"30\", \"90\", \"365\"))}\n",
    "\n",
    "#Use the function to get the ranking of each value in pred and label columns and compare them with each other(distances)\n",
    "#Show the distribution of the distances of label and pred column in a frequency matrix\n",
    "print(\"Accuracies, Inaccuracies and the Distances\")\n",
    "table(abs(unlist(lapply(pred, checking)) - unlist(lapply(label, checking))))"
   ]
  },
  {
   "cell_type": "markdown",
   "id": "b2f8e000-0a1a-4d51-9be5-3944b1dc5205",
   "metadata": {},
   "source": [
    "There are 333 predicted values that have zero distance from their actual label.(Accurately predicted)\n",
    "\n",
    "The most frequent inaccuracy has the distance of 2 from their actual label. (for example, if actual label = 7 and prediction = 30)\n",
    "In conclusion, our model has predicted a lot of the data inaccurately and mainly the distance between the actual and predicted labels is 2. \\\n",
    "Since the response column is ordinal, the model tried to have the minimum inaccuracies with the distance of 3 (only 154 of the labels and predictions have an inaccuracy with distance of 3)."
   ]
  },
  {
   "cell_type": "markdown",
   "id": "9d07a3d6-01a9-4bad-8548-650bfe54c15a",
   "metadata": {},
   "source": [
    "**Exploring the option of balancing our data**"
   ]
  },
  {
   "cell_type": "markdown",
   "id": "ad43564a-9da6-4f46-b820-e7e2d5ceacf3",
   "metadata": {},
   "source": [
    "We can oversample and undersample our data to see if our tree model would have all the categories of our response column in its terminal nodes."
   ]
  },
  {
   "cell_type": "code",
   "execution_count": 189,
   "id": "460cc962-cd3b-42de-91a8-804e8b8d8a4c",
   "metadata": {},
   "outputs": [
    {
     "data": {
      "text/plain": [
       "\n",
       "  7  14  30  90 365 \n",
       "780 780 780 780 780 "
      ]
     },
     "metadata": {},
     "output_type": "display_data"
    }
   ],
   "source": [
    "#Undersampling from rows with label 14 and 90 and oversampling from rows with labels 7, 30 and 365\n",
    "rows_7 = which(st$Frequency.of.Purchases == \"7\")\n",
    "rows_14 = which(st$Frequency.of.Purchases == \"14\")\n",
    "rows_30 = which(st$Frequency.of.Purchases == \"30\")\n",
    "rows_90 = which(st$Frequency.of.Purchases == \"90\")\n",
    "rows_365 = which(st$Frequency.of.Purchases == \"365\")\n",
    "\n",
    "set.seed(12)\n",
    "balance_rows_7= sort(sample(rows_7, 0.2 * nrow(st), replace =TRUE))\n",
    "balance_rows_14= sort(sample(rows_14, 0.2 * nrow(st)))\n",
    "balance_rows_30= sort(sample(rows_30, 0.2 * nrow(st), replace =TRUE))\n",
    "balance_rows_90= sort(sample(rows_90, 0.2 * nrow(st)))\n",
    "balance_rows_365= sort(sample(rows_365, 0.2 * nrow(st), replace =TRUE))\n",
    "\n",
    "#Create a new balanced dataset\n",
    "balanced_st = st[c(balance_rows_7, balance_rows_14, balance_rows_30, balance_rows_90, balance_rows_365),]\n",
    "\n",
    "#Check to see the frequency\n",
    "table(balanced_st$Frequency.of.Purchases)"
   ]
  },
  {
   "cell_type": "markdown",
   "id": "6969a18c-befe-4d43-950f-9e7032929ce3",
   "metadata": {},
   "source": [
    "Now we have a balanced data, let's fit our model on the train set again and see what will change."
   ]
  },
  {
   "cell_type": "code",
   "execution_count": 183,
   "id": "621b1ad7-5b49-4e99-b80c-2750ebea2c98",
   "metadata": {},
   "outputs": [],
   "source": [
    "# split to train and test set\n",
    "set.seed(12)\n",
    "train_rows_b = sample(nrow(balanced_st), nrow(balanced_st) * 0.7)\n",
    "st_train_b = balanced_st[train_rows_b,-c(1, 7)]\n",
    "st_test_b = balanced_st[-train_rows_b,-c(1, 7)]"
   ]
  },
  {
   "cell_type": "code",
   "execution_count": 184,
   "id": "de35cdf2-ee53-435d-8019-21fc5128cd2e",
   "metadata": {},
   "outputs": [],
   "source": [
    "#fit decision tree model on our balanced train set\n",
    "tree_model_b = rpart(Frequency.of.Purchases ~ ., data = st_train_b, method = \"class\")\n",
    "predicted_test_b = predict(tree_model_b, newdata=st_test_b, type = \"class\")"
   ]
  },
  {
   "cell_type": "code",
   "execution_count": 185,
   "id": "9777f985-6ea8-43d9-aa10-e037e855fa94",
   "metadata": {},
   "outputs": [
    {
     "data": {
      "image/png": "[encoded data removed]",
      "text/plain": [
       "plot without title"
      ]
     },
     "metadata": {
      "image/png": {
       "height": 900,
       "width": 900
      }
     },
     "output_type": "display_data"
    }
   ],
   "source": [
    "options(repr.plot.width =15 , repr.plot.height =15)\n",
    "rpart.plot(tree_model_b, box.palette = \"YlGnBl\" ,type =1)"
   ]
  },
  {
   "cell_type": "code",
   "execution_count": 186,
   "id": "359b0471-a144-4027-8fda-791153a705c3",
   "metadata": {
    "scrolled": true
   },
   "outputs": [
    {
     "data": {
      "text/plain": [
       "Confusion Matrix and Statistics\n",
       "\n",
       "          Reference\n",
       "Prediction  7 14 30 90 365\n",
       "       7   27 20 22 22  13\n",
       "       14  42 36 29 44  44\n",
       "       30  54 47 78 60  51\n",
       "       90  50 65 67 56  48\n",
       "       365 35 56 54 65  85\n",
       "\n",
       "Overall Statistics\n",
       "                                          \n",
       "               Accuracy : 0.241           \n",
       "                 95% CI : (0.2168, 0.2666)\n",
       "    No Information Rate : 0.2137          \n",
       "    P-Value [Acc > NIR] : 0.01318         \n",
       "                                          \n",
       "                  Kappa : 0.0463          \n",
       "                                          \n",
       " Mcnemar's Test P-Value : 3.117e-08       \n",
       "\n",
       "Statistics by Class:\n",
       "\n",
       "                     Class: 7 Class: 14 Class: 30 Class: 90 Class: 365\n",
       "Sensitivity           0.12981   0.16071   0.31200   0.22672    0.35270\n",
       "Specificity           0.91996   0.83192   0.76957   0.75081    0.77395\n",
       "Pos Pred Value        0.25962   0.18462   0.26897   0.19580    0.28814\n",
       "Neg Pred Value        0.83021   0.80718   0.80455   0.78394    0.82171\n",
       "Prevalence            0.17778   0.19145   0.21368   0.21111    0.20598\n",
       "Detection Rate        0.02308   0.03077   0.06667   0.04786    0.07265\n",
       "Detection Prevalence  0.08889   0.16667   0.24786   0.24444    0.25214\n",
       "Balanced Accuracy     0.52488   0.49632   0.54078   0.48877    0.56332"
      ]
     },
     "metadata": {},
     "output_type": "display_data"
    }
   ],
   "source": [
    "confusionMatrix(predicted_test_b, st_test_b$Frequency.of.Purchases)"
   ]
  },
  {
   "cell_type": "markdown",
   "id": "99998fba-70af-4042-bd9a-d93b2f0138b4",
   "metadata": {},
   "source": [
    "While the new tree model on the balanced data has predictions as all of the categories of our response column, this did not increase the accuracy of the model. It means that although our dataset was balanced this time, the model was not able to partition the data properly to make a good prediction."
   ]
  },
  {
   "cell_type": "code",
   "execution_count": 191,
   "id": "5e18bc52-65da-42e2-afe0-2dfc82cb0faf",
   "metadata": {},
   "outputs": [],
   "source": [
    "#Create the mutual information matrix\n",
    "balanced_st = balanced_st[,-c(1,7)]\n",
    "mi_matrix2 = matrix(data = NA, nrow = ncol(balanced_st), ncol = ncol(balanced_st))\n",
    "\n",
    "#Fill in the mi matrix\n",
    "for (i in 1:ncol(balanced_st) ){\n",
    "    for (j in 1:ncol(balanced_st) ){\n",
    "        mi_matrix2[i,j] = mutinformation(as.integer(balanced_st[,i]), as.integer(balanced_st[,j]))\n",
    "        }\n",
    "    }"
   ]
  },
  {
   "cell_type": "code",
   "execution_count": 195,
   "id": "f9e74f80-47c3-407e-817d-444acc9f4c0a",
   "metadata": {},
   "outputs": [
    {
     "data": {
      "text/html": [
       "<table class=\"dataframe\">\n",
       "<caption>A data.frame: 3900 × 17</caption>\n",
       "<thead>\n",
       "\t<tr><th></th><th scope=col>Age</th><th scope=col>Gender</th><th scope=col>Item.Purchased</th><th scope=col>Category</th><th scope=col>Purchase.Amount..USD.</th><th scope=col>Size</th><th scope=col>Color</th><th scope=col>Season</th><th scope=col>Review.Rating</th><th scope=col>Subscription.Status</th><th scope=col>Payment.Method</th><th scope=col>Shipping.Type</th><th scope=col>Discount.Applied</th><th scope=col>Promo.Code.Used</th><th scope=col>Previous.Purchases</th><th scope=col>Preferred.Payment.Method</th><th scope=col>Frequency.of.Purchases</th></tr>\n",
       "\t<tr><th></th><th scope=col>&lt;int&gt;</th><th scope=col>&lt;fct&gt;</th><th scope=col>&lt;fct&gt;</th><th scope=col>&lt;fct&gt;</th><th scope=col>&lt;int&gt;</th><th scope=col>&lt;fct&gt;</th><th scope=col>&lt;fct&gt;</th><th scope=col>&lt;fct&gt;</th><th scope=col>&lt;dbl&gt;</th><th scope=col>&lt;fct&gt;</th><th scope=col>&lt;fct&gt;</th><th scope=col>&lt;fct&gt;</th><th scope=col>&lt;fct&gt;</th><th scope=col>&lt;fct&gt;</th><th scope=col>&lt;int&gt;</th><th scope=col>&lt;fct&gt;</th><th scope=col>&lt;ord&gt;</th></tr>\n",
       "</thead>\n",
       "<tbody>\n",
       "\t<tr><th scope=row>3</th><td>50</td><td>Male</td><td>Jeans     </td><td>Clothing   </td><td>73</td><td>S </td><td>Maroon   </td><td>Spring</td><td>3.1</td><td>Yes</td><td>Cash         </td><td>Free Shipping </td><td>Yes</td><td>Yes</td><td>23</td><td>Credit Card</td><td>7</td></tr>\n",
       "\t<tr><th scope=row>3.1</th><td>50</td><td>Male</td><td>Jeans     </td><td>Clothing   </td><td>73</td><td>S </td><td>Maroon   </td><td>Spring</td><td>3.1</td><td>Yes</td><td>Cash         </td><td>Free Shipping </td><td>Yes</td><td>Yes</td><td>23</td><td>Credit Card</td><td>7</td></tr>\n",
       "\t<tr><th scope=row>4</th><td>21</td><td>Male</td><td>Sandals   </td><td>Footwear   </td><td>90</td><td>M </td><td>Maroon   </td><td>Spring</td><td>3.5</td><td>Yes</td><td>PayPal       </td><td>Next Day Air  </td><td>Yes</td><td>Yes</td><td>49</td><td>PayPal     </td><td>7</td></tr>\n",
       "\t<tr><th scope=row>6</th><td>46</td><td>Male</td><td>Sneakers  </td><td>Footwear   </td><td>20</td><td>M </td><td>White    </td><td>Summer</td><td>2.9</td><td>Yes</td><td>Venmo        </td><td>Standard      </td><td>Yes</td><td>Yes</td><td>14</td><td>Venmo      </td><td>7</td></tr>\n",
       "\t<tr><th scope=row>6.1</th><td>46</td><td>Male</td><td>Sneakers  </td><td>Footwear   </td><td>20</td><td>M </td><td>White    </td><td>Summer</td><td>2.9</td><td>Yes</td><td>Venmo        </td><td>Standard      </td><td>Yes</td><td>Yes</td><td>14</td><td>Venmo      </td><td>7</td></tr>\n",
       "\t<tr><th scope=row>8</th><td>27</td><td>Male</td><td>Shorts    </td><td>Clothing   </td><td>34</td><td>L </td><td>Charcoal </td><td>Winter</td><td>3.2</td><td>Yes</td><td>Debit Card   </td><td>Free Shipping </td><td>Yes</td><td>Yes</td><td>19</td><td>Credit Card</td><td>7</td></tr>\n",
       "\t<tr><th scope=row>19</th><td>52</td><td>Male</td><td>Sweater   </td><td>Clothing   </td><td>48</td><td>S </td><td>Black    </td><td>Summer</td><td>4.6</td><td>Yes</td><td>Bank Transfer</td><td>Free Shipping </td><td>Yes</td><td>Yes</td><td>17</td><td>Cash       </td><td>7</td></tr>\n",
       "\t<tr><th scope=row>24</th><td>31</td><td>Male</td><td>Pants     </td><td>Clothing   </td><td>88</td><td>XL</td><td>White    </td><td>Winter</td><td>4.4</td><td>Yes</td><td>Credit Card  </td><td>Express       </td><td>Yes</td><td>Yes</td><td>40</td><td>Credit Card</td><td>7</td></tr>\n",
       "\t<tr><th scope=row>30</th><td>31</td><td>Male</td><td>Dress     </td><td>Clothing   </td><td>48</td><td>S </td><td>Black    </td><td>Fall  </td><td>4.1</td><td>Yes</td><td>Venmo        </td><td>Store Pickup  </td><td>Yes</td><td>Yes</td><td>14</td><td>Credit Card</td><td>7</td></tr>\n",
       "\t<tr><th scope=row>45</th><td>39</td><td>Male</td><td>Hat       </td><td>Accessories</td><td>53</td><td>S </td><td>Silver   </td><td>Summer</td><td>4.6</td><td>Yes</td><td>Bank Transfer</td><td>Free Shipping </td><td>Yes</td><td>Yes</td><td>45</td><td>PayPal     </td><td>7</td></tr>\n",
       "\t<tr><th scope=row>45.1</th><td>39</td><td>Male</td><td>Hat       </td><td>Accessories</td><td>53</td><td>S </td><td>Silver   </td><td>Summer</td><td>4.6</td><td>Yes</td><td>Bank Transfer</td><td>Free Shipping </td><td>Yes</td><td>Yes</td><td>45</td><td>PayPal     </td><td>7</td></tr>\n",
       "\t<tr><th scope=row>45.2</th><td>39</td><td>Male</td><td>Hat       </td><td>Accessories</td><td>53</td><td>S </td><td>Silver   </td><td>Summer</td><td>4.6</td><td>Yes</td><td>Bank Transfer</td><td>Free Shipping </td><td>Yes</td><td>Yes</td><td>45</td><td>PayPal     </td><td>7</td></tr>\n",
       "\t<tr><th scope=row>48</th><td>55</td><td>Male</td><td>Jewelry   </td><td>Accessories</td><td>54</td><td>M </td><td>Charcoal </td><td>Winter</td><td>4.5</td><td>Yes</td><td>Debit Card   </td><td>Free Shipping </td><td>Yes</td><td>Yes</td><td>36</td><td>Cash       </td><td>7</td></tr>\n",
       "\t<tr><th scope=row>48.1</th><td>55</td><td>Male</td><td>Jewelry   </td><td>Accessories</td><td>54</td><td>M </td><td>Charcoal </td><td>Winter</td><td>4.5</td><td>Yes</td><td>Debit Card   </td><td>Free Shipping </td><td>Yes</td><td>Yes</td><td>36</td><td>Cash       </td><td>7</td></tr>\n",
       "\t<tr><th scope=row>53</th><td>42</td><td>Male</td><td>T-shirt   </td><td>Clothing   </td><td>20</td><td>M </td><td>Green    </td><td>Summer</td><td>2.6</td><td>Yes</td><td>Credit Card  </td><td>Free Shipping </td><td>Yes</td><td>Yes</td><td>26</td><td>Credit Card</td><td>7</td></tr>\n",
       "\t<tr><th scope=row>57</th><td>41</td><td>Male</td><td>Backpack  </td><td>Accessories</td><td>73</td><td>XL</td><td>Brown    </td><td>Summer</td><td>4.7</td><td>Yes</td><td>PayPal       </td><td>Store Pickup  </td><td>Yes</td><td>Yes</td><td>46</td><td>Credit Card</td><td>7</td></tr>\n",
       "\t<tr><th scope=row>60</th><td>63</td><td>Male</td><td>Belt      </td><td>Accessories</td><td>79</td><td>L </td><td>Yellow   </td><td>Spring</td><td>4.6</td><td>Yes</td><td>Debit Card   </td><td>Standard      </td><td>Yes</td><td>Yes</td><td> 4</td><td>Debit Card </td><td>7</td></tr>\n",
       "\t<tr><th scope=row>61</th><td>50</td><td>Male</td><td>Sweater   </td><td>Clothing   </td><td>37</td><td>L </td><td>Brown    </td><td>Summer</td><td>4.0</td><td>Yes</td><td>Credit Card  </td><td>Express       </td><td>Yes</td><td>Yes</td><td>17</td><td>Cash       </td><td>7</td></tr>\n",
       "\t<tr><th scope=row>61.1</th><td>50</td><td>Male</td><td>Sweater   </td><td>Clothing   </td><td>37</td><td>L </td><td>Brown    </td><td>Summer</td><td>4.0</td><td>Yes</td><td>Credit Card  </td><td>Express       </td><td>Yes</td><td>Yes</td><td>17</td><td>Cash       </td><td>7</td></tr>\n",
       "\t<tr><th scope=row>64</th><td>33</td><td>Male</td><td>Sunglasses</td><td>Accessories</td><td>79</td><td>L </td><td>Lavender </td><td>Winter</td><td>2.7</td><td>Yes</td><td>Credit Card  </td><td>2-Day Shipping</td><td>Yes</td><td>Yes</td><td>43</td><td>Credit Card</td><td>7</td></tr>\n",
       "\t<tr><th scope=row>64.1</th><td>33</td><td>Male</td><td>Sunglasses</td><td>Accessories</td><td>79</td><td>L </td><td>Lavender </td><td>Winter</td><td>2.7</td><td>Yes</td><td>Credit Card  </td><td>2-Day Shipping</td><td>Yes</td><td>Yes</td><td>43</td><td>Credit Card</td><td>7</td></tr>\n",
       "\t<tr><th scope=row>94</th><td>37</td><td>Male</td><td>Sweater   </td><td>Clothing   </td><td>62</td><td>M </td><td>Purple   </td><td>Fall  </td><td>4.5</td><td>Yes</td><td>PayPal       </td><td>Standard      </td><td>Yes</td><td>Yes</td><td>46</td><td>Credit Card</td><td>7</td></tr>\n",
       "\t<tr><th scope=row>94.1</th><td>37</td><td>Male</td><td>Sweater   </td><td>Clothing   </td><td>62</td><td>M </td><td>Purple   </td><td>Fall  </td><td>4.5</td><td>Yes</td><td>PayPal       </td><td>Standard      </td><td>Yes</td><td>Yes</td><td>46</td><td>Credit Card</td><td>7</td></tr>\n",
       "\t<tr><th scope=row>94.2</th><td>37</td><td>Male</td><td>Sweater   </td><td>Clothing   </td><td>62</td><td>M </td><td>Purple   </td><td>Fall  </td><td>4.5</td><td>Yes</td><td>PayPal       </td><td>Standard      </td><td>Yes</td><td>Yes</td><td>46</td><td>Credit Card</td><td>7</td></tr>\n",
       "\t<tr><th scope=row>115</th><td>70</td><td>Male</td><td>Coat      </td><td>Outerwear  </td><td>95</td><td>S </td><td>Blue     </td><td>Summer</td><td>3.7</td><td>Yes</td><td>Venmo        </td><td>Store Pickup  </td><td>Yes</td><td>Yes</td><td> 9</td><td>Cash       </td><td>7</td></tr>\n",
       "\t<tr><th scope=row>115.1</th><td>70</td><td>Male</td><td>Coat      </td><td>Outerwear  </td><td>95</td><td>S </td><td>Blue     </td><td>Summer</td><td>3.7</td><td>Yes</td><td>Venmo        </td><td>Store Pickup  </td><td>Yes</td><td>Yes</td><td> 9</td><td>Cash       </td><td>7</td></tr>\n",
       "\t<tr><th scope=row>124</th><td>57</td><td>Male</td><td>Sweater   </td><td>Clothing   </td><td>89</td><td>L </td><td>Brown    </td><td>Fall  </td><td>3.1</td><td>Yes</td><td>Debit Card   </td><td>Free Shipping </td><td>Yes</td><td>Yes</td><td>46</td><td>Cash       </td><td>7</td></tr>\n",
       "\t<tr><th scope=row>124.1</th><td>57</td><td>Male</td><td>Sweater   </td><td>Clothing   </td><td>89</td><td>L </td><td>Brown    </td><td>Fall  </td><td>3.1</td><td>Yes</td><td>Debit Card   </td><td>Free Shipping </td><td>Yes</td><td>Yes</td><td>46</td><td>Cash       </td><td>7</td></tr>\n",
       "\t<tr><th scope=row>132</th><td>28</td><td>Male</td><td>Skirt     </td><td>Clothing   </td><td>29</td><td>L </td><td>Indigo   </td><td>Summer</td><td>3.9</td><td>Yes</td><td>PayPal       </td><td>Standard      </td><td>Yes</td><td>Yes</td><td>46</td><td>Credit Card</td><td>7</td></tr>\n",
       "\t<tr><th scope=row>138</th><td>68</td><td>Male</td><td>Sneakers  </td><td>Footwear   </td><td>43</td><td>M </td><td>Turquoise</td><td>Spring</td><td>4.7</td><td>Yes</td><td>Cash         </td><td>Free Shipping </td><td>Yes</td><td>Yes</td><td>38</td><td>PayPal     </td><td>7</td></tr>\n",
       "\t<tr><th scope=row>⋮</th><td>⋮</td><td>⋮</td><td>⋮</td><td>⋮</td><td>⋮</td><td>⋮</td><td>⋮</td><td>⋮</td><td>⋮</td><td>⋮</td><td>⋮</td><td>⋮</td><td>⋮</td><td>⋮</td><td>⋮</td><td>⋮</td><td>⋮</td></tr>\n",
       "\t<tr><th scope=row>3779</th><td>25</td><td>Female</td><td>Sneakers  </td><td>Footwear   </td><td>60</td><td>M </td><td>Cyan     </td><td>Fall  </td><td>2.9</td><td>No</td><td>PayPal       </td><td>Free Shipping </td><td>No</td><td>No</td><td>30</td><td>Debit Card   </td><td>365</td></tr>\n",
       "\t<tr><th scope=row>3779.1</th><td>25</td><td>Female</td><td>Sneakers  </td><td>Footwear   </td><td>60</td><td>M </td><td>Cyan     </td><td>Fall  </td><td>2.9</td><td>No</td><td>PayPal       </td><td>Free Shipping </td><td>No</td><td>No</td><td>30</td><td>Debit Card   </td><td>365</td></tr>\n",
       "\t<tr><th scope=row>3780</th><td>60</td><td>Female</td><td>Jeans     </td><td>Clothing   </td><td>75</td><td>XL</td><td>Lavender </td><td>Spring</td><td>4.0</td><td>No</td><td>Venmo        </td><td>Express       </td><td>No</td><td>No</td><td>45</td><td>PayPal       </td><td>365</td></tr>\n",
       "\t<tr><th scope=row>3780.1</th><td>60</td><td>Female</td><td>Jeans     </td><td>Clothing   </td><td>75</td><td>XL</td><td>Lavender </td><td>Spring</td><td>4.0</td><td>No</td><td>Venmo        </td><td>Express       </td><td>No</td><td>No</td><td>45</td><td>PayPal       </td><td>365</td></tr>\n",
       "\t<tr><th scope=row>3780.2</th><td>60</td><td>Female</td><td>Jeans     </td><td>Clothing   </td><td>75</td><td>XL</td><td>Lavender </td><td>Spring</td><td>4.0</td><td>No</td><td>Venmo        </td><td>Express       </td><td>No</td><td>No</td><td>45</td><td>PayPal       </td><td>365</td></tr>\n",
       "\t<tr><th scope=row>3780.3</th><td>60</td><td>Female</td><td>Jeans     </td><td>Clothing   </td><td>75</td><td>XL</td><td>Lavender </td><td>Spring</td><td>4.0</td><td>No</td><td>Venmo        </td><td>Express       </td><td>No</td><td>No</td><td>45</td><td>PayPal       </td><td>365</td></tr>\n",
       "\t<tr><th scope=row>3785</th><td>54</td><td>Female</td><td>Socks     </td><td>Clothing   </td><td>53</td><td>M </td><td>Violet   </td><td>Winter</td><td>4.5</td><td>No</td><td>Cash         </td><td>Next Day Air  </td><td>No</td><td>No</td><td> 4</td><td>Venmo        </td><td>365</td></tr>\n",
       "\t<tr><th scope=row>3785.1</th><td>54</td><td>Female</td><td>Socks     </td><td>Clothing   </td><td>53</td><td>M </td><td>Violet   </td><td>Winter</td><td>4.5</td><td>No</td><td>Cash         </td><td>Next Day Air  </td><td>No</td><td>No</td><td> 4</td><td>Venmo        </td><td>365</td></tr>\n",
       "\t<tr><th scope=row>3794</th><td>62</td><td>Female</td><td>Sunglasses</td><td>Accessories</td><td>20</td><td>M </td><td>Pink     </td><td>Fall  </td><td>4.0</td><td>No</td><td>Cash         </td><td>Standard      </td><td>No</td><td>No</td><td>46</td><td>Bank Transfer</td><td>365</td></tr>\n",
       "\t<tr><th scope=row>3794.1</th><td>62</td><td>Female</td><td>Sunglasses</td><td>Accessories</td><td>20</td><td>M </td><td>Pink     </td><td>Fall  </td><td>4.0</td><td>No</td><td>Cash         </td><td>Standard      </td><td>No</td><td>No</td><td>46</td><td>Bank Transfer</td><td>365</td></tr>\n",
       "\t<tr><th scope=row>3799</th><td>63</td><td>Female</td><td>Jewelry   </td><td>Accessories</td><td>72</td><td>S </td><td>Brown    </td><td>Winter</td><td>3.2</td><td>No</td><td>Credit Card  </td><td>Next Day Air  </td><td>No</td><td>No</td><td>23</td><td>Credit Card  </td><td>365</td></tr>\n",
       "\t<tr><th scope=row>3805</th><td>37</td><td>Female</td><td>Hat       </td><td>Accessories</td><td>77</td><td>M </td><td>Olive    </td><td>Fall  </td><td>2.7</td><td>No</td><td>Venmo        </td><td>2-Day Shipping</td><td>No</td><td>No</td><td>45</td><td>Cash         </td><td>365</td></tr>\n",
       "\t<tr><th scope=row>3808</th><td>38</td><td>Female</td><td>Blouse    </td><td>Clothing   </td><td>39</td><td>L </td><td>Peach    </td><td>Spring</td><td>2.9</td><td>No</td><td>PayPal       </td><td>Next Day Air  </td><td>No</td><td>No</td><td>36</td><td>PayPal       </td><td>365</td></tr>\n",
       "\t<tr><th scope=row>3818</th><td>66</td><td>Female</td><td>Scarf     </td><td>Accessories</td><td>91</td><td>M </td><td>Magenta  </td><td>Fall  </td><td>2.6</td><td>No</td><td>Debit Card   </td><td>Express       </td><td>No</td><td>No</td><td>40</td><td>PayPal       </td><td>365</td></tr>\n",
       "\t<tr><th scope=row>3827</th><td>50</td><td>Female</td><td>Jacket    </td><td>Outerwear  </td><td>31</td><td>M </td><td>Gray     </td><td>Summer</td><td>4.0</td><td>No</td><td>Bank Transfer</td><td>Express       </td><td>No</td><td>No</td><td>25</td><td>Bank Transfer</td><td>365</td></tr>\n",
       "\t<tr><th scope=row>3827.1</th><td>50</td><td>Female</td><td>Jacket    </td><td>Outerwear  </td><td>31</td><td>M </td><td>Gray     </td><td>Summer</td><td>4.0</td><td>No</td><td>Bank Transfer</td><td>Express       </td><td>No</td><td>No</td><td>25</td><td>Bank Transfer</td><td>365</td></tr>\n",
       "\t<tr><th scope=row>3827.2</th><td>50</td><td>Female</td><td>Jacket    </td><td>Outerwear  </td><td>31</td><td>M </td><td>Gray     </td><td>Summer</td><td>4.0</td><td>No</td><td>Bank Transfer</td><td>Express       </td><td>No</td><td>No</td><td>25</td><td>Bank Transfer</td><td>365</td></tr>\n",
       "\t<tr><th scope=row>3846</th><td>58</td><td>Female</td><td>Sweater   </td><td>Clothing   </td><td>52</td><td>M </td><td>Green    </td><td>Winter</td><td>4.9</td><td>No</td><td>Venmo        </td><td>Standard      </td><td>No</td><td>No</td><td>46</td><td>Venmo        </td><td>365</td></tr>\n",
       "\t<tr><th scope=row>3852</th><td>50</td><td>Female</td><td>Scarf     </td><td>Accessories</td><td>83</td><td>M </td><td>Pink     </td><td>Summer</td><td>3.9</td><td>No</td><td>Credit Card  </td><td>Free Shipping </td><td>No</td><td>No</td><td>24</td><td>Debit Card   </td><td>365</td></tr>\n",
       "\t<tr><th scope=row>3852.1</th><td>50</td><td>Female</td><td>Scarf     </td><td>Accessories</td><td>83</td><td>M </td><td>Pink     </td><td>Summer</td><td>3.9</td><td>No</td><td>Credit Card  </td><td>Free Shipping </td><td>No</td><td>No</td><td>24</td><td>Debit Card   </td><td>365</td></tr>\n",
       "\t<tr><th scope=row>3852.2</th><td>50</td><td>Female</td><td>Scarf     </td><td>Accessories</td><td>83</td><td>M </td><td>Pink     </td><td>Summer</td><td>3.9</td><td>No</td><td>Credit Card  </td><td>Free Shipping </td><td>No</td><td>No</td><td>24</td><td>Debit Card   </td><td>365</td></tr>\n",
       "\t<tr><th scope=row>3852.3</th><td>50</td><td>Female</td><td>Scarf     </td><td>Accessories</td><td>83</td><td>M </td><td>Pink     </td><td>Summer</td><td>3.9</td><td>No</td><td>Credit Card  </td><td>Free Shipping </td><td>No</td><td>No</td><td>24</td><td>Debit Card   </td><td>365</td></tr>\n",
       "\t<tr><th scope=row>3855</th><td>57</td><td>Female</td><td>T-shirt   </td><td>Clothing   </td><td>20</td><td>M </td><td>Black    </td><td>Spring</td><td>4.2</td><td>No</td><td>Venmo        </td><td>Free Shipping </td><td>No</td><td>No</td><td> 4</td><td>Venmo        </td><td>365</td></tr>\n",
       "\t<tr><th scope=row>3855.1</th><td>57</td><td>Female</td><td>T-shirt   </td><td>Clothing   </td><td>20</td><td>M </td><td>Black    </td><td>Spring</td><td>4.2</td><td>No</td><td>Venmo        </td><td>Free Shipping </td><td>No</td><td>No</td><td> 4</td><td>Venmo        </td><td>365</td></tr>\n",
       "\t<tr><th scope=row>3855.2</th><td>57</td><td>Female</td><td>T-shirt   </td><td>Clothing   </td><td>20</td><td>M </td><td>Black    </td><td>Spring</td><td>4.2</td><td>No</td><td>Venmo        </td><td>Free Shipping </td><td>No</td><td>No</td><td> 4</td><td>Venmo        </td><td>365</td></tr>\n",
       "\t<tr><th scope=row>3861</th><td>57</td><td>Female</td><td>Sunglasses</td><td>Accessories</td><td>64</td><td>M </td><td>Turquoise</td><td>Summer</td><td>4.4</td><td>No</td><td>Credit Card  </td><td>Next Day Air  </td><td>No</td><td>No</td><td>44</td><td>Cash         </td><td>365</td></tr>\n",
       "\t<tr><th scope=row>3870</th><td>26</td><td>Female</td><td>Coat      </td><td>Outerwear  </td><td>64</td><td>L </td><td>Cyan     </td><td>Spring</td><td>3.8</td><td>No</td><td>Bank Transfer</td><td>Free Shipping </td><td>No</td><td>No</td><td>28</td><td>Bank Transfer</td><td>365</td></tr>\n",
       "\t<tr><th scope=row>3877</th><td>60</td><td>Female</td><td>Shoes     </td><td>Footwear   </td><td>85</td><td>S </td><td>Cyan     </td><td>Fall  </td><td>2.6</td><td>No</td><td>Bank Transfer</td><td>2-Day Shipping</td><td>No</td><td>No</td><td> 7</td><td>Cash         </td><td>365</td></tr>\n",
       "\t<tr><th scope=row>3877.1</th><td>60</td><td>Female</td><td>Shoes     </td><td>Footwear   </td><td>85</td><td>S </td><td>Cyan     </td><td>Fall  </td><td>2.6</td><td>No</td><td>Bank Transfer</td><td>2-Day Shipping</td><td>No</td><td>No</td><td> 7</td><td>Cash         </td><td>365</td></tr>\n",
       "\t<tr><th scope=row>3890</th><td>57</td><td>Female</td><td>Dress     </td><td>Clothing   </td><td>65</td><td>S </td><td>Yellow   </td><td>Spring</td><td>3.5</td><td>No</td><td>Debit Card   </td><td>Express       </td><td>No</td><td>No</td><td>49</td><td>Bank Transfer</td><td>365</td></tr>\n",
       "</tbody>\n",
       "</table>\n"
      ],
      "text/latex": [
       "A data.frame: 3900 × 17\n",
       "\\begin{tabular}{r|lllllllllllllllll}\n",
       "  & Age & Gender & Item.Purchased & Category & Purchase.Amount..USD. & Size & Color & Season & Review.Rating & Subscription.Status & Payment.Method & Shipping.Type & Discount.Applied & Promo.Code.Used & Previous.Purchases & Preferred.Payment.Method & Frequency.of.Purchases\\\\\n",
       "  & <int> & <fct> & <fct> & <fct> & <int> & <fct> & <fct> & <fct> & <dbl> & <fct> & <fct> & <fct> & <fct> & <fct> & <int> & <fct> & <ord>\\\\\n",
       "\\hline\n",
       "\t3 & 50 & Male & Jeans      & Clothing    & 73 & S  & Maroon    & Spring & 3.1 & Yes & Cash          & Free Shipping  & Yes & Yes & 23 & Credit Card & 7\\\\\n",
       "\t3.1 & 50 & Male & Jeans      & Clothing    & 73 & S  & Maroon    & Spring & 3.1 & Yes & Cash          & Free Shipping  & Yes & Yes & 23 & Credit Card & 7\\\\\n",
       "\t4 & 21 & Male & Sandals    & Footwear    & 90 & M  & Maroon    & Spring & 3.5 & Yes & PayPal        & Next Day Air   & Yes & Yes & 49 & PayPal      & 7\\\\\n",
       "\t6 & 46 & Male & Sneakers   & Footwear    & 20 & M  & White     & Summer & 2.9 & Yes & Venmo         & Standard       & Yes & Yes & 14 & Venmo       & 7\\\\\n",
       "\t6.1 & 46 & Male & Sneakers   & Footwear    & 20 & M  & White     & Summer & 2.9 & Yes & Venmo         & Standard       & Yes & Yes & 14 & Venmo       & 7\\\\\n",
       "\t8 & 27 & Male & Shorts     & Clothing    & 34 & L  & Charcoal  & Winter & 3.2 & Yes & Debit Card    & Free Shipping  & Yes & Yes & 19 & Credit Card & 7\\\\\n",
       "\t19 & 52 & Male & Sweater    & Clothing    & 48 & S  & Black     & Summer & 4.6 & Yes & Bank Transfer & Free Shipping  & Yes & Yes & 17 & Cash        & 7\\\\\n",
       "\t24 & 31 & Male & Pants      & Clothing    & 88 & XL & White     & Winter & 4.4 & Yes & Credit Card   & Express        & Yes & Yes & 40 & Credit Card & 7\\\\\n",
       "\t30 & 31 & Male & Dress      & Clothing    & 48 & S  & Black     & Fall   & 4.1 & Yes & Venmo         & Store Pickup   & Yes & Yes & 14 & Credit Card & 7\\\\\n",
       "\t45 & 39 & Male & Hat        & Accessories & 53 & S  & Silver    & Summer & 4.6 & Yes & Bank Transfer & Free Shipping  & Yes & Yes & 45 & PayPal      & 7\\\\\n",
       "\t45.1 & 39 & Male & Hat        & Accessories & 53 & S  & Silver    & Summer & 4.6 & Yes & Bank Transfer & Free Shipping  & Yes & Yes & 45 & PayPal      & 7\\\\\n",
       "\t45.2 & 39 & Male & Hat        & Accessories & 53 & S  & Silver    & Summer & 4.6 & Yes & Bank Transfer & Free Shipping  & Yes & Yes & 45 & PayPal      & 7\\\\\n",
       "\t48 & 55 & Male & Jewelry    & Accessories & 54 & M  & Charcoal  & Winter & 4.5 & Yes & Debit Card    & Free Shipping  & Yes & Yes & 36 & Cash        & 7\\\\\n",
       "\t48.1 & 55 & Male & Jewelry    & Accessories & 54 & M  & Charcoal  & Winter & 4.5 & Yes & Debit Card    & Free Shipping  & Yes & Yes & 36 & Cash        & 7\\\\\n",
       "\t53 & 42 & Male & T-shirt    & Clothing    & 20 & M  & Green     & Summer & 2.6 & Yes & Credit Card   & Free Shipping  & Yes & Yes & 26 & Credit Card & 7\\\\\n",
       "\t57 & 41 & Male & Backpack   & Accessories & 73 & XL & Brown     & Summer & 4.7 & Yes & PayPal        & Store Pickup   & Yes & Yes & 46 & Credit Card & 7\\\\\n",
       "\t60 & 63 & Male & Belt       & Accessories & 79 & L  & Yellow    & Spring & 4.6 & Yes & Debit Card    & Standard       & Yes & Yes &  4 & Debit Card  & 7\\\\\n",
       "\t61 & 50 & Male & Sweater    & Clothing    & 37 & L  & Brown     & Summer & 4.0 & Yes & Credit Card   & Express        & Yes & Yes & 17 & Cash        & 7\\\\\n",
       "\t61.1 & 50 & Male & Sweater    & Clothing    & 37 & L  & Brown     & Summer & 4.0 & Yes & Credit Card   & Express        & Yes & Yes & 17 & Cash        & 7\\\\\n",
       "\t64 & 33 & Male & Sunglasses & Accessories & 79 & L  & Lavender  & Winter & 2.7 & Yes & Credit Card   & 2-Day Shipping & Yes & Yes & 43 & Credit Card & 7\\\\\n",
       "\t64.1 & 33 & Male & Sunglasses & Accessories & 79 & L  & Lavender  & Winter & 2.7 & Yes & Credit Card   & 2-Day Shipping & Yes & Yes & 43 & Credit Card & 7\\\\\n",
       "\t94 & 37 & Male & Sweater    & Clothing    & 62 & M  & Purple    & Fall   & 4.5 & Yes & PayPal        & Standard       & Yes & Yes & 46 & Credit Card & 7\\\\\n",
       "\t94.1 & 37 & Male & Sweater    & Clothing    & 62 & M  & Purple    & Fall   & 4.5 & Yes & PayPal        & Standard       & Yes & Yes & 46 & Credit Card & 7\\\\\n",
       "\t94.2 & 37 & Male & Sweater    & Clothing    & 62 & M  & Purple    & Fall   & 4.5 & Yes & PayPal        & Standard       & Yes & Yes & 46 & Credit Card & 7\\\\\n",
       "\t115 & 70 & Male & Coat       & Outerwear   & 95 & S  & Blue      & Summer & 3.7 & Yes & Venmo         & Store Pickup   & Yes & Yes &  9 & Cash        & 7\\\\\n",
       "\t115.1 & 70 & Male & Coat       & Outerwear   & 95 & S  & Blue      & Summer & 3.7 & Yes & Venmo         & Store Pickup   & Yes & Yes &  9 & Cash        & 7\\\\\n",
       "\t124 & 57 & Male & Sweater    & Clothing    & 89 & L  & Brown     & Fall   & 3.1 & Yes & Debit Card    & Free Shipping  & Yes & Yes & 46 & Cash        & 7\\\\\n",
       "\t124.1 & 57 & Male & Sweater    & Clothing    & 89 & L  & Brown     & Fall   & 3.1 & Yes & Debit Card    & Free Shipping  & Yes & Yes & 46 & Cash        & 7\\\\\n",
       "\t132 & 28 & Male & Skirt      & Clothing    & 29 & L  & Indigo    & Summer & 3.9 & Yes & PayPal        & Standard       & Yes & Yes & 46 & Credit Card & 7\\\\\n",
       "\t138 & 68 & Male & Sneakers   & Footwear    & 43 & M  & Turquoise & Spring & 4.7 & Yes & Cash          & Free Shipping  & Yes & Yes & 38 & PayPal      & 7\\\\\n",
       "\t⋮ & ⋮ & ⋮ & ⋮ & ⋮ & ⋮ & ⋮ & ⋮ & ⋮ & ⋮ & ⋮ & ⋮ & ⋮ & ⋮ & ⋮ & ⋮ & ⋮ & ⋮\\\\\n",
       "\t3779 & 25 & Female & Sneakers   & Footwear    & 60 & M  & Cyan      & Fall   & 2.9 & No & PayPal        & Free Shipping  & No & No & 30 & Debit Card    & 365\\\\\n",
       "\t3779.1 & 25 & Female & Sneakers   & Footwear    & 60 & M  & Cyan      & Fall   & 2.9 & No & PayPal        & Free Shipping  & No & No & 30 & Debit Card    & 365\\\\\n",
       "\t3780 & 60 & Female & Jeans      & Clothing    & 75 & XL & Lavender  & Spring & 4.0 & No & Venmo         & Express        & No & No & 45 & PayPal        & 365\\\\\n",
       "\t3780.1 & 60 & Female & Jeans      & Clothing    & 75 & XL & Lavender  & Spring & 4.0 & No & Venmo         & Express        & No & No & 45 & PayPal        & 365\\\\\n",
       "\t3780.2 & 60 & Female & Jeans      & Clothing    & 75 & XL & Lavender  & Spring & 4.0 & No & Venmo         & Express        & No & No & 45 & PayPal        & 365\\\\\n",
       "\t3780.3 & 60 & Female & Jeans      & Clothing    & 75 & XL & Lavender  & Spring & 4.0 & No & Venmo         & Express        & No & No & 45 & PayPal        & 365\\\\\n",
       "\t3785 & 54 & Female & Socks      & Clothing    & 53 & M  & Violet    & Winter & 4.5 & No & Cash          & Next Day Air   & No & No &  4 & Venmo         & 365\\\\\n",
       "\t3785.1 & 54 & Female & Socks      & Clothing    & 53 & M  & Violet    & Winter & 4.5 & No & Cash          & Next Day Air   & No & No &  4 & Venmo         & 365\\\\\n",
       "\t3794 & 62 & Female & Sunglasses & Accessories & 20 & M  & Pink      & Fall   & 4.0 & No & Cash          & Standard       & No & No & 46 & Bank Transfer & 365\\\\\n",
       "\t3794.1 & 62 & Female & Sunglasses & Accessories & 20 & M  & Pink      & Fall   & 4.0 & No & Cash          & Standard       & No & No & 46 & Bank Transfer & 365\\\\\n",
       "\t3799 & 63 & Female & Jewelry    & Accessories & 72 & S  & Brown     & Winter & 3.2 & No & Credit Card   & Next Day Air   & No & No & 23 & Credit Card   & 365\\\\\n",
       "\t3805 & 37 & Female & Hat        & Accessories & 77 & M  & Olive     & Fall   & 2.7 & No & Venmo         & 2-Day Shipping & No & No & 45 & Cash          & 365\\\\\n",
       "\t3808 & 38 & Female & Blouse     & Clothing    & 39 & L  & Peach     & Spring & 2.9 & No & PayPal        & Next Day Air   & No & No & 36 & PayPal        & 365\\\\\n",
       "\t3818 & 66 & Female & Scarf      & Accessories & 91 & M  & Magenta   & Fall   & 2.6 & No & Debit Card    & Express        & No & No & 40 & PayPal        & 365\\\\\n",
       "\t3827 & 50 & Female & Jacket     & Outerwear   & 31 & M  & Gray      & Summer & 4.0 & No & Bank Transfer & Express        & No & No & 25 & Bank Transfer & 365\\\\\n",
       "\t3827.1 & 50 & Female & Jacket     & Outerwear   & 31 & M  & Gray      & Summer & 4.0 & No & Bank Transfer & Express        & No & No & 25 & Bank Transfer & 365\\\\\n",
       "\t3827.2 & 50 & Female & Jacket     & Outerwear   & 31 & M  & Gray      & Summer & 4.0 & No & Bank Transfer & Express        & No & No & 25 & Bank Transfer & 365\\\\\n",
       "\t3846 & 58 & Female & Sweater    & Clothing    & 52 & M  & Green     & Winter & 4.9 & No & Venmo         & Standard       & No & No & 46 & Venmo         & 365\\\\\n",
       "\t3852 & 50 & Female & Scarf      & Accessories & 83 & M  & Pink      & Summer & 3.9 & No & Credit Card   & Free Shipping  & No & No & 24 & Debit Card    & 365\\\\\n",
       "\t3852.1 & 50 & Female & Scarf      & Accessories & 83 & M  & Pink      & Summer & 3.9 & No & Credit Card   & Free Shipping  & No & No & 24 & Debit Card    & 365\\\\\n",
       "\t3852.2 & 50 & Female & Scarf      & Accessories & 83 & M  & Pink      & Summer & 3.9 & No & Credit Card   & Free Shipping  & No & No & 24 & Debit Card    & 365\\\\\n",
       "\t3852.3 & 50 & Female & Scarf      & Accessories & 83 & M  & Pink      & Summer & 3.9 & No & Credit Card   & Free Shipping  & No & No & 24 & Debit Card    & 365\\\\\n",
       "\t3855 & 57 & Female & T-shirt    & Clothing    & 20 & M  & Black     & Spring & 4.2 & No & Venmo         & Free Shipping  & No & No &  4 & Venmo         & 365\\\\\n",
       "\t3855.1 & 57 & Female & T-shirt    & Clothing    & 20 & M  & Black     & Spring & 4.2 & No & Venmo         & Free Shipping  & No & No &  4 & Venmo         & 365\\\\\n",
       "\t3855.2 & 57 & Female & T-shirt    & Clothing    & 20 & M  & Black     & Spring & 4.2 & No & Venmo         & Free Shipping  & No & No &  4 & Venmo         & 365\\\\\n",
       "\t3861 & 57 & Female & Sunglasses & Accessories & 64 & M  & Turquoise & Summer & 4.4 & No & Credit Card   & Next Day Air   & No & No & 44 & Cash          & 365\\\\\n",
       "\t3870 & 26 & Female & Coat       & Outerwear   & 64 & L  & Cyan      & Spring & 3.8 & No & Bank Transfer & Free Shipping  & No & No & 28 & Bank Transfer & 365\\\\\n",
       "\t3877 & 60 & Female & Shoes      & Footwear    & 85 & S  & Cyan      & Fall   & 2.6 & No & Bank Transfer & 2-Day Shipping & No & No &  7 & Cash          & 365\\\\\n",
       "\t3877.1 & 60 & Female & Shoes      & Footwear    & 85 & S  & Cyan      & Fall   & 2.6 & No & Bank Transfer & 2-Day Shipping & No & No &  7 & Cash          & 365\\\\\n",
       "\t3890 & 57 & Female & Dress      & Clothing    & 65 & S  & Yellow    & Spring & 3.5 & No & Debit Card    & Express        & No & No & 49 & Bank Transfer & 365\\\\\n",
       "\\end{tabular}\n"
      ],
      "text/markdown": [
       "\n",
       "A data.frame: 3900 × 17\n",
       "\n",
       "| <!--/--> | Age &lt;int&gt; | Gender &lt;fct&gt; | Item.Purchased &lt;fct&gt; | Category &lt;fct&gt; | Purchase.Amount..USD. &lt;int&gt; | Size &lt;fct&gt; | Color &lt;fct&gt; | Season &lt;fct&gt; | Review.Rating &lt;dbl&gt; | Subscription.Status &lt;fct&gt; | Payment.Method &lt;fct&gt; | Shipping.Type &lt;fct&gt; | Discount.Applied &lt;fct&gt; | Promo.Code.Used &lt;fct&gt; | Previous.Purchases &lt;int&gt; | Preferred.Payment.Method &lt;fct&gt; | Frequency.of.Purchases &lt;ord&gt; |\n",
       "|---|---|---|---|---|---|---|---|---|---|---|---|---|---|---|---|---|---|\n",
       "| 3 | 50 | Male | Jeans      | Clothing    | 73 | S  | Maroon    | Spring | 3.1 | Yes | Cash          | Free Shipping  | Yes | Yes | 23 | Credit Card | 7 |\n",
       "| 3.1 | 50 | Male | Jeans      | Clothing    | 73 | S  | Maroon    | Spring | 3.1 | Yes | Cash          | Free Shipping  | Yes | Yes | 23 | Credit Card | 7 |\n",
       "| 4 | 21 | Male | Sandals    | Footwear    | 90 | M  | Maroon    | Spring | 3.5 | Yes | PayPal        | Next Day Air   | Yes | Yes | 49 | PayPal      | 7 |\n",
       "| 6 | 46 | Male | Sneakers   | Footwear    | 20 | M  | White     | Summer | 2.9 | Yes | Venmo         | Standard       | Yes | Yes | 14 | Venmo       | 7 |\n",
       "| 6.1 | 46 | Male | Sneakers   | Footwear    | 20 | M  | White     | Summer | 2.9 | Yes | Venmo         | Standard       | Yes | Yes | 14 | Venmo       | 7 |\n",
       "| 8 | 27 | Male | Shorts     | Clothing    | 34 | L  | Charcoal  | Winter | 3.2 | Yes | Debit Card    | Free Shipping  | Yes | Yes | 19 | Credit Card | 7 |\n",
       "| 19 | 52 | Male | Sweater    | Clothing    | 48 | S  | Black     | Summer | 4.6 | Yes | Bank Transfer | Free Shipping  | Yes | Yes | 17 | Cash        | 7 |\n",
       "| 24 | 31 | Male | Pants      | Clothing    | 88 | XL | White     | Winter | 4.4 | Yes | Credit Card   | Express        | Yes | Yes | 40 | Credit Card | 7 |\n",
       "| 30 | 31 | Male | Dress      | Clothing    | 48 | S  | Black     | Fall   | 4.1 | Yes | Venmo         | Store Pickup   | Yes | Yes | 14 | Credit Card | 7 |\n",
       "| 45 | 39 | Male | Hat        | Accessories | 53 | S  | Silver    | Summer | 4.6 | Yes | Bank Transfer | Free Shipping  | Yes | Yes | 45 | PayPal      | 7 |\n",
       "| 45.1 | 39 | Male | Hat        | Accessories | 53 | S  | Silver    | Summer | 4.6 | Yes | Bank Transfer | Free Shipping  | Yes | Yes | 45 | PayPal      | 7 |\n",
       "| 45.2 | 39 | Male | Hat        | Accessories | 53 | S  | Silver    | Summer | 4.6 | Yes | Bank Transfer | Free Shipping  | Yes | Yes | 45 | PayPal      | 7 |\n",
       "| 48 | 55 | Male | Jewelry    | Accessories | 54 | M  | Charcoal  | Winter | 4.5 | Yes | Debit Card    | Free Shipping  | Yes | Yes | 36 | Cash        | 7 |\n",
       "| 48.1 | 55 | Male | Jewelry    | Accessories | 54 | M  | Charcoal  | Winter | 4.5 | Yes | Debit Card    | Free Shipping  | Yes | Yes | 36 | Cash        | 7 |\n",
       "| 53 | 42 | Male | T-shirt    | Clothing    | 20 | M  | Green     | Summer | 2.6 | Yes | Credit Card   | Free Shipping  | Yes | Yes | 26 | Credit Card | 7 |\n",
       "| 57 | 41 | Male | Backpack   | Accessories | 73 | XL | Brown     | Summer | 4.7 | Yes | PayPal        | Store Pickup   | Yes | Yes | 46 | Credit Card | 7 |\n",
       "| 60 | 63 | Male | Belt       | Accessories | 79 | L  | Yellow    | Spring | 4.6 | Yes | Debit Card    | Standard       | Yes | Yes |  4 | Debit Card  | 7 |\n",
       "| 61 | 50 | Male | Sweater    | Clothing    | 37 | L  | Brown     | Summer | 4.0 | Yes | Credit Card   | Express        | Yes | Yes | 17 | Cash        | 7 |\n",
       "| 61.1 | 50 | Male | Sweater    | Clothing    | 37 | L  | Brown     | Summer | 4.0 | Yes | Credit Card   | Express        | Yes | Yes | 17 | Cash        | 7 |\n",
       "| 64 | 33 | Male | Sunglasses | Accessories | 79 | L  | Lavender  | Winter | 2.7 | Yes | Credit Card   | 2-Day Shipping | Yes | Yes | 43 | Credit Card | 7 |\n",
       "| 64.1 | 33 | Male | Sunglasses | Accessories | 79 | L  | Lavender  | Winter | 2.7 | Yes | Credit Card   | 2-Day Shipping | Yes | Yes | 43 | Credit Card | 7 |\n",
       "| 94 | 37 | Male | Sweater    | Clothing    | 62 | M  | Purple    | Fall   | 4.5 | Yes | PayPal        | Standard       | Yes | Yes | 46 | Credit Card | 7 |\n",
       "| 94.1 | 37 | Male | Sweater    | Clothing    | 62 | M  | Purple    | Fall   | 4.5 | Yes | PayPal        | Standard       | Yes | Yes | 46 | Credit Card | 7 |\n",
       "| 94.2 | 37 | Male | Sweater    | Clothing    | 62 | M  | Purple    | Fall   | 4.5 | Yes | PayPal        | Standard       | Yes | Yes | 46 | Credit Card | 7 |\n",
       "| 115 | 70 | Male | Coat       | Outerwear   | 95 | S  | Blue      | Summer | 3.7 | Yes | Venmo         | Store Pickup   | Yes | Yes |  9 | Cash        | 7 |\n",
       "| 115.1 | 70 | Male | Coat       | Outerwear   | 95 | S  | Blue      | Summer | 3.7 | Yes | Venmo         | Store Pickup   | Yes | Yes |  9 | Cash        | 7 |\n",
       "| 124 | 57 | Male | Sweater    | Clothing    | 89 | L  | Brown     | Fall   | 3.1 | Yes | Debit Card    | Free Shipping  | Yes | Yes | 46 | Cash        | 7 |\n",
       "| 124.1 | 57 | Male | Sweater    | Clothing    | 89 | L  | Brown     | Fall   | 3.1 | Yes | Debit Card    | Free Shipping  | Yes | Yes | 46 | Cash        | 7 |\n",
       "| 132 | 28 | Male | Skirt      | Clothing    | 29 | L  | Indigo    | Summer | 3.9 | Yes | PayPal        | Standard       | Yes | Yes | 46 | Credit Card | 7 |\n",
       "| 138 | 68 | Male | Sneakers   | Footwear    | 43 | M  | Turquoise | Spring | 4.7 | Yes | Cash          | Free Shipping  | Yes | Yes | 38 | PayPal      | 7 |\n",
       "| ⋮ | ⋮ | ⋮ | ⋮ | ⋮ | ⋮ | ⋮ | ⋮ | ⋮ | ⋮ | ⋮ | ⋮ | ⋮ | ⋮ | ⋮ | ⋮ | ⋮ | ⋮ |\n",
       "| 3779 | 25 | Female | Sneakers   | Footwear    | 60 | M  | Cyan      | Fall   | 2.9 | No | PayPal        | Free Shipping  | No | No | 30 | Debit Card    | 365 |\n",
       "| 3779.1 | 25 | Female | Sneakers   | Footwear    | 60 | M  | Cyan      | Fall   | 2.9 | No | PayPal        | Free Shipping  | No | No | 30 | Debit Card    | 365 |\n",
       "| 3780 | 60 | Female | Jeans      | Clothing    | 75 | XL | Lavender  | Spring | 4.0 | No | Venmo         | Express        | No | No | 45 | PayPal        | 365 |\n",
       "| 3780.1 | 60 | Female | Jeans      | Clothing    | 75 | XL | Lavender  | Spring | 4.0 | No | Venmo         | Express        | No | No | 45 | PayPal        | 365 |\n",
       "| 3780.2 | 60 | Female | Jeans      | Clothing    | 75 | XL | Lavender  | Spring | 4.0 | No | Venmo         | Express        | No | No | 45 | PayPal        | 365 |\n",
       "| 3780.3 | 60 | Female | Jeans      | Clothing    | 75 | XL | Lavender  | Spring | 4.0 | No | Venmo         | Express        | No | No | 45 | PayPal        | 365 |\n",
       "| 3785 | 54 | Female | Socks      | Clothing    | 53 | M  | Violet    | Winter | 4.5 | No | Cash          | Next Day Air   | No | No |  4 | Venmo         | 365 |\n",
       "| 3785.1 | 54 | Female | Socks      | Clothing    | 53 | M  | Violet    | Winter | 4.5 | No | Cash          | Next Day Air   | No | No |  4 | Venmo         | 365 |\n",
       "| 3794 | 62 | Female | Sunglasses | Accessories | 20 | M  | Pink      | Fall   | 4.0 | No | Cash          | Standard       | No | No | 46 | Bank Transfer | 365 |\n",
       "| 3794.1 | 62 | Female | Sunglasses | Accessories | 20 | M  | Pink      | Fall   | 4.0 | No | Cash          | Standard       | No | No | 46 | Bank Transfer | 365 |\n",
       "| 3799 | 63 | Female | Jewelry    | Accessories | 72 | S  | Brown     | Winter | 3.2 | No | Credit Card   | Next Day Air   | No | No | 23 | Credit Card   | 365 |\n",
       "| 3805 | 37 | Female | Hat        | Accessories | 77 | M  | Olive     | Fall   | 2.7 | No | Venmo         | 2-Day Shipping | No | No | 45 | Cash          | 365 |\n",
       "| 3808 | 38 | Female | Blouse     | Clothing    | 39 | L  | Peach     | Spring | 2.9 | No | PayPal        | Next Day Air   | No | No | 36 | PayPal        | 365 |\n",
       "| 3818 | 66 | Female | Scarf      | Accessories | 91 | M  | Magenta   | Fall   | 2.6 | No | Debit Card    | Express        | No | No | 40 | PayPal        | 365 |\n",
       "| 3827 | 50 | Female | Jacket     | Outerwear   | 31 | M  | Gray      | Summer | 4.0 | No | Bank Transfer | Express        | No | No | 25 | Bank Transfer | 365 |\n",
       "| 3827.1 | 50 | Female | Jacket     | Outerwear   | 31 | M  | Gray      | Summer | 4.0 | No | Bank Transfer | Express        | No | No | 25 | Bank Transfer | 365 |\n",
       "| 3827.2 | 50 | Female | Jacket     | Outerwear   | 31 | M  | Gray      | Summer | 4.0 | No | Bank Transfer | Express        | No | No | 25 | Bank Transfer | 365 |\n",
       "| 3846 | 58 | Female | Sweater    | Clothing    | 52 | M  | Green     | Winter | 4.9 | No | Venmo         | Standard       | No | No | 46 | Venmo         | 365 |\n",
       "| 3852 | 50 | Female | Scarf      | Accessories | 83 | M  | Pink      | Summer | 3.9 | No | Credit Card   | Free Shipping  | No | No | 24 | Debit Card    | 365 |\n",
       "| 3852.1 | 50 | Female | Scarf      | Accessories | 83 | M  | Pink      | Summer | 3.9 | No | Credit Card   | Free Shipping  | No | No | 24 | Debit Card    | 365 |\n",
       "| 3852.2 | 50 | Female | Scarf      | Accessories | 83 | M  | Pink      | Summer | 3.9 | No | Credit Card   | Free Shipping  | No | No | 24 | Debit Card    | 365 |\n",
       "| 3852.3 | 50 | Female | Scarf      | Accessories | 83 | M  | Pink      | Summer | 3.9 | No | Credit Card   | Free Shipping  | No | No | 24 | Debit Card    | 365 |\n",
       "| 3855 | 57 | Female | T-shirt    | Clothing    | 20 | M  | Black     | Spring | 4.2 | No | Venmo         | Free Shipping  | No | No |  4 | Venmo         | 365 |\n",
       "| 3855.1 | 57 | Female | T-shirt    | Clothing    | 20 | M  | Black     | Spring | 4.2 | No | Venmo         | Free Shipping  | No | No |  4 | Venmo         | 365 |\n",
       "| 3855.2 | 57 | Female | T-shirt    | Clothing    | 20 | M  | Black     | Spring | 4.2 | No | Venmo         | Free Shipping  | No | No |  4 | Venmo         | 365 |\n",
       "| 3861 | 57 | Female | Sunglasses | Accessories | 64 | M  | Turquoise | Summer | 4.4 | No | Credit Card   | Next Day Air   | No | No | 44 | Cash          | 365 |\n",
       "| 3870 | 26 | Female | Coat       | Outerwear   | 64 | L  | Cyan      | Spring | 3.8 | No | Bank Transfer | Free Shipping  | No | No | 28 | Bank Transfer | 365 |\n",
       "| 3877 | 60 | Female | Shoes      | Footwear    | 85 | S  | Cyan      | Fall   | 2.6 | No | Bank Transfer | 2-Day Shipping | No | No |  7 | Cash          | 365 |\n",
       "| 3877.1 | 60 | Female | Shoes      | Footwear    | 85 | S  | Cyan      | Fall   | 2.6 | No | Bank Transfer | 2-Day Shipping | No | No |  7 | Cash          | 365 |\n",
       "| 3890 | 57 | Female | Dress      | Clothing    | 65 | S  | Yellow    | Spring | 3.5 | No | Debit Card    | Express        | No | No | 49 | Bank Transfer | 365 |\n",
       "\n"
      ],
      "text/plain": [
       "       Age Gender Item.Purchased Category    Purchase.Amount..USD. Size\n",
       "3      50  Male   Jeans          Clothing    73                    S   \n",
       "3.1    50  Male   Jeans          Clothing    73                    S   \n",
       "4      21  Male   Sandals        Footwear    90                    M   \n",
       "6      46  Male   Sneakers       Footwear    20                    M   \n",
       "6.1    46  Male   Sneakers       Footwear    20                    M   \n",
       "8      27  Male   Shorts         Clothing    34                    L   \n",
       "19     52  Male   Sweater        Clothing    48                    S   \n",
       "24     31  Male   Pants          Clothing    88                    XL  \n",
       "30     31  Male   Dress          Clothing    48                    S   \n",
       "45     39  Male   Hat            Accessories 53                    S   \n",
       "45.1   39  Male   Hat            Accessories 53                    S   \n",
       "45.2   39  Male   Hat            Accessories 53                    S   \n",
       "48     55  Male   Jewelry        Accessories 54                    M   \n",
       "48.1   55  Male   Jewelry        Accessories 54                    M   \n",
       "53     42  Male   T-shirt        Clothing    20                    M   \n",
       "57     41  Male   Backpack       Accessories 73                    XL  \n",
       "60     63  Male   Belt           Accessories 79                    L   \n",
       "61     50  Male   Sweater        Clothing    37                    L   \n",
       "61.1   50  Male   Sweater        Clothing    37                    L   \n",
       "64     33  Male   Sunglasses     Accessories 79                    L   \n",
       "64.1   33  Male   Sunglasses     Accessories 79                    L   \n",
       "94     37  Male   Sweater        Clothing    62                    M   \n",
       "94.1   37  Male   Sweater        Clothing    62                    M   \n",
       "94.2   37  Male   Sweater        Clothing    62                    M   \n",
       "115    70  Male   Coat           Outerwear   95                    S   \n",
       "115.1  70  Male   Coat           Outerwear   95                    S   \n",
       "124    57  Male   Sweater        Clothing    89                    L   \n",
       "124.1  57  Male   Sweater        Clothing    89                    L   \n",
       "132    28  Male   Skirt          Clothing    29                    L   \n",
       "138    68  Male   Sneakers       Footwear    43                    M   \n",
       "⋮      ⋮   ⋮      ⋮              ⋮           ⋮                     ⋮   \n",
       "3779   25  Female Sneakers       Footwear    60                    M   \n",
       "3779.1 25  Female Sneakers       Footwear    60                    M   \n",
       "3780   60  Female Jeans          Clothing    75                    XL  \n",
       "3780.1 60  Female Jeans          Clothing    75                    XL  \n",
       "3780.2 60  Female Jeans          Clothing    75                    XL  \n",
       "3780.3 60  Female Jeans          Clothing    75                    XL  \n",
       "3785   54  Female Socks          Clothing    53                    M   \n",
       "3785.1 54  Female Socks          Clothing    53                    M   \n",
       "3794   62  Female Sunglasses     Accessories 20                    M   \n",
       "3794.1 62  Female Sunglasses     Accessories 20                    M   \n",
       "3799   63  Female Jewelry        Accessories 72                    S   \n",
       "3805   37  Female Hat            Accessories 77                    M   \n",
       "3808   38  Female Blouse         Clothing    39                    L   \n",
       "3818   66  Female Scarf          Accessories 91                    M   \n",
       "3827   50  Female Jacket         Outerwear   31                    M   \n",
       "3827.1 50  Female Jacket         Outerwear   31                    M   \n",
       "3827.2 50  Female Jacket         Outerwear   31                    M   \n",
       "3846   58  Female Sweater        Clothing    52                    M   \n",
       "3852   50  Female Scarf          Accessories 83                    M   \n",
       "3852.1 50  Female Scarf          Accessories 83                    M   \n",
       "3852.2 50  Female Scarf          Accessories 83                    M   \n",
       "3852.3 50  Female Scarf          Accessories 83                    M   \n",
       "3855   57  Female T-shirt        Clothing    20                    M   \n",
       "3855.1 57  Female T-shirt        Clothing    20                    M   \n",
       "3855.2 57  Female T-shirt        Clothing    20                    M   \n",
       "3861   57  Female Sunglasses     Accessories 64                    M   \n",
       "3870   26  Female Coat           Outerwear   64                    L   \n",
       "3877   60  Female Shoes          Footwear    85                    S   \n",
       "3877.1 60  Female Shoes          Footwear    85                    S   \n",
       "3890   57  Female Dress          Clothing    65                    S   \n",
       "       Color     Season Review.Rating Subscription.Status Payment.Method\n",
       "3      Maroon    Spring 3.1           Yes                 Cash          \n",
       "3.1    Maroon    Spring 3.1           Yes                 Cash          \n",
       "4      Maroon    Spring 3.5           Yes                 PayPal        \n",
       "6      White     Summer 2.9           Yes                 Venmo         \n",
       "6.1    White     Summer 2.9           Yes                 Venmo         \n",
       "8      Charcoal  Winter 3.2           Yes                 Debit Card    \n",
       "19     Black     Summer 4.6           Yes                 Bank Transfer \n",
       "24     White     Winter 4.4           Yes                 Credit Card   \n",
       "30     Black     Fall   4.1           Yes                 Venmo         \n",
       "45     Silver    Summer 4.6           Yes                 Bank Transfer \n",
       "45.1   Silver    Summer 4.6           Yes                 Bank Transfer \n",
       "45.2   Silver    Summer 4.6           Yes                 Bank Transfer \n",
       "48     Charcoal  Winter 4.5           Yes                 Debit Card    \n",
       "48.1   Charcoal  Winter 4.5           Yes                 Debit Card    \n",
       "53     Green     Summer 2.6           Yes                 Credit Card   \n",
       "57     Brown     Summer 4.7           Yes                 PayPal        \n",
       "60     Yellow    Spring 4.6           Yes                 Debit Card    \n",
       "61     Brown     Summer 4.0           Yes                 Credit Card   \n",
       "61.1   Brown     Summer 4.0           Yes                 Credit Card   \n",
       "64     Lavender  Winter 2.7           Yes                 Credit Card   \n",
       "64.1   Lavender  Winter 2.7           Yes                 Credit Card   \n",
       "94     Purple    Fall   4.5           Yes                 PayPal        \n",
       "94.1   Purple    Fall   4.5           Yes                 PayPal        \n",
       "94.2   Purple    Fall   4.5           Yes                 PayPal        \n",
       "115    Blue      Summer 3.7           Yes                 Venmo         \n",
       "115.1  Blue      Summer 3.7           Yes                 Venmo         \n",
       "124    Brown     Fall   3.1           Yes                 Debit Card    \n",
       "124.1  Brown     Fall   3.1           Yes                 Debit Card    \n",
       "132    Indigo    Summer 3.9           Yes                 PayPal        \n",
       "138    Turquoise Spring 4.7           Yes                 Cash          \n",
       "⋮      ⋮         ⋮      ⋮             ⋮                   ⋮             \n",
       "3779   Cyan      Fall   2.9           No                  PayPal        \n",
       "3779.1 Cyan      Fall   2.9           No                  PayPal        \n",
       "3780   Lavender  Spring 4.0           No                  Venmo         \n",
       "3780.1 Lavender  Spring 4.0           No                  Venmo         \n",
       "3780.2 Lavender  Spring 4.0           No                  Venmo         \n",
       "3780.3 Lavender  Spring 4.0           No                  Venmo         \n",
       "3785   Violet    Winter 4.5           No                  Cash          \n",
       "3785.1 Violet    Winter 4.5           No                  Cash          \n",
       "3794   Pink      Fall   4.0           No                  Cash          \n",
       "3794.1 Pink      Fall   4.0           No                  Cash          \n",
       "3799   Brown     Winter 3.2           No                  Credit Card   \n",
       "3805   Olive     Fall   2.7           No                  Venmo         \n",
       "3808   Peach     Spring 2.9           No                  PayPal        \n",
       "3818   Magenta   Fall   2.6           No                  Debit Card    \n",
       "3827   Gray      Summer 4.0           No                  Bank Transfer \n",
       "3827.1 Gray      Summer 4.0           No                  Bank Transfer \n",
       "3827.2 Gray      Summer 4.0           No                  Bank Transfer \n",
       "3846   Green     Winter 4.9           No                  Venmo         \n",
       "3852   Pink      Summer 3.9           No                  Credit Card   \n",
       "3852.1 Pink      Summer 3.9           No                  Credit Card   \n",
       "3852.2 Pink      Summer 3.9           No                  Credit Card   \n",
       "3852.3 Pink      Summer 3.9           No                  Credit Card   \n",
       "3855   Black     Spring 4.2           No                  Venmo         \n",
       "3855.1 Black     Spring 4.2           No                  Venmo         \n",
       "3855.2 Black     Spring 4.2           No                  Venmo         \n",
       "3861   Turquoise Summer 4.4           No                  Credit Card   \n",
       "3870   Cyan      Spring 3.8           No                  Bank Transfer \n",
       "3877   Cyan      Fall   2.6           No                  Bank Transfer \n",
       "3877.1 Cyan      Fall   2.6           No                  Bank Transfer \n",
       "3890   Yellow    Spring 3.5           No                  Debit Card    \n",
       "       Shipping.Type  Discount.Applied Promo.Code.Used Previous.Purchases\n",
       "3      Free Shipping  Yes              Yes             23                \n",
       "3.1    Free Shipping  Yes              Yes             23                \n",
       "4      Next Day Air   Yes              Yes             49                \n",
       "6      Standard       Yes              Yes             14                \n",
       "6.1    Standard       Yes              Yes             14                \n",
       "8      Free Shipping  Yes              Yes             19                \n",
       "19     Free Shipping  Yes              Yes             17                \n",
       "24     Express        Yes              Yes             40                \n",
       "30     Store Pickup   Yes              Yes             14                \n",
       "45     Free Shipping  Yes              Yes             45                \n",
       "45.1   Free Shipping  Yes              Yes             45                \n",
       "45.2   Free Shipping  Yes              Yes             45                \n",
       "48     Free Shipping  Yes              Yes             36                \n",
       "48.1   Free Shipping  Yes              Yes             36                \n",
       "53     Free Shipping  Yes              Yes             26                \n",
       "57     Store Pickup   Yes              Yes             46                \n",
       "60     Standard       Yes              Yes              4                \n",
       "61     Express        Yes              Yes             17                \n",
       "61.1   Express        Yes              Yes             17                \n",
       "64     2-Day Shipping Yes              Yes             43                \n",
       "64.1   2-Day Shipping Yes              Yes             43                \n",
       "94     Standard       Yes              Yes             46                \n",
       "94.1   Standard       Yes              Yes             46                \n",
       "94.2   Standard       Yes              Yes             46                \n",
       "115    Store Pickup   Yes              Yes              9                \n",
       "115.1  Store Pickup   Yes              Yes              9                \n",
       "124    Free Shipping  Yes              Yes             46                \n",
       "124.1  Free Shipping  Yes              Yes             46                \n",
       "132    Standard       Yes              Yes             46                \n",
       "138    Free Shipping  Yes              Yes             38                \n",
       "⋮      ⋮              ⋮                ⋮               ⋮                 \n",
       "3779   Free Shipping  No               No              30                \n",
       "3779.1 Free Shipping  No               No              30                \n",
       "3780   Express        No               No              45                \n",
       "3780.1 Express        No               No              45                \n",
       "3780.2 Express        No               No              45                \n",
       "3780.3 Express        No               No              45                \n",
       "3785   Next Day Air   No               No               4                \n",
       "3785.1 Next Day Air   No               No               4                \n",
       "3794   Standard       No               No              46                \n",
       "3794.1 Standard       No               No              46                \n",
       "3799   Next Day Air   No               No              23                \n",
       "3805   2-Day Shipping No               No              45                \n",
       "3808   Next Day Air   No               No              36                \n",
       "3818   Express        No               No              40                \n",
       "3827   Express        No               No              25                \n",
       "3827.1 Express        No               No              25                \n",
       "3827.2 Express        No               No              25                \n",
       "3846   Standard       No               No              46                \n",
       "3852   Free Shipping  No               No              24                \n",
       "3852.1 Free Shipping  No               No              24                \n",
       "3852.2 Free Shipping  No               No              24                \n",
       "3852.3 Free Shipping  No               No              24                \n",
       "3855   Free Shipping  No               No               4                \n",
       "3855.1 Free Shipping  No               No               4                \n",
       "3855.2 Free Shipping  No               No               4                \n",
       "3861   Next Day Air   No               No              44                \n",
       "3870   Free Shipping  No               No              28                \n",
       "3877   2-Day Shipping No               No               7                \n",
       "3877.1 2-Day Shipping No               No               7                \n",
       "3890   Express        No               No              49                \n",
       "       Preferred.Payment.Method Frequency.of.Purchases\n",
       "3      Credit Card              7                     \n",
       "3.1    Credit Card              7                     \n",
       "4      PayPal                   7                     \n",
       "6      Venmo                    7                     \n",
       "6.1    Venmo                    7                     \n",
       "8      Credit Card              7                     \n",
       "19     Cash                     7                     \n",
       "24     Credit Card              7                     \n",
       "30     Credit Card              7                     \n",
       "45     PayPal                   7                     \n",
       "45.1   PayPal                   7                     \n",
       "45.2   PayPal                   7                     \n",
       "48     Cash                     7                     \n",
       "48.1   Cash                     7                     \n",
       "53     Credit Card              7                     \n",
       "57     Credit Card              7                     \n",
       "60     Debit Card               7                     \n",
       "61     Cash                     7                     \n",
       "61.1   Cash                     7                     \n",
       "64     Credit Card              7                     \n",
       "64.1   Credit Card              7                     \n",
       "94     Credit Card              7                     \n",
       "94.1   Credit Card              7                     \n",
       "94.2   Credit Card              7                     \n",
       "115    Cash                     7                     \n",
       "115.1  Cash                     7                     \n",
       "124    Cash                     7                     \n",
       "124.1  Cash                     7                     \n",
       "132    Credit Card              7                     \n",
       "138    PayPal                   7                     \n",
       "⋮      ⋮                        ⋮                     \n",
       "3779   Debit Card               365                   \n",
       "3779.1 Debit Card               365                   \n",
       "3780   PayPal                   365                   \n",
       "3780.1 PayPal                   365                   \n",
       "3780.2 PayPal                   365                   \n",
       "3780.3 PayPal                   365                   \n",
       "3785   Venmo                    365                   \n",
       "3785.1 Venmo                    365                   \n",
       "3794   Bank Transfer            365                   \n",
       "3794.1 Bank Transfer            365                   \n",
       "3799   Credit Card              365                   \n",
       "3805   Cash                     365                   \n",
       "3808   PayPal                   365                   \n",
       "3818   PayPal                   365                   \n",
       "3827   Bank Transfer            365                   \n",
       "3827.1 Bank Transfer            365                   \n",
       "3827.2 Bank Transfer            365                   \n",
       "3846   Venmo                    365                   \n",
       "3852   Debit Card               365                   \n",
       "3852.1 Debit Card               365                   \n",
       "3852.2 Debit Card               365                   \n",
       "3852.3 Debit Card               365                   \n",
       "3855   Venmo                    365                   \n",
       "3855.1 Venmo                    365                   \n",
       "3855.2 Venmo                    365                   \n",
       "3861   Cash                     365                   \n",
       "3870   Bank Transfer            365                   \n",
       "3877   Cash                     365                   \n",
       "3877.1 Cash                     365                   \n",
       "3890   Bank Transfer            365                   "
      ]
     },
     "metadata": {},
     "output_type": "display_data"
    }
   ],
   "source": [
    "balanced_st"
   ]
  },
  {
   "cell_type": "code",
   "execution_count": 194,
   "id": "ecd13efe-6924-44e4-9537-5118f326276e",
   "metadata": {},
   "outputs": [
    {
     "data": {
      "text/html": [
       "<dl>\n",
       "\t<dt>$`Mutual Informarion`</dt>\n",
       "\t\t<dd><style>\n",
       ".list-inline {list-style: none; margin:0; padding: 0}\n",
       ".list-inline>li {display: inline-block}\n",
       ".list-inline>li:not(:last-child)::after {content: \"\\00b7\"; padding: 0 .5ex}\n",
       "</style>\n",
       "<ol class=list-inline><li>1.6094379124341</li><li>0.0855525637392693</li><li>0.0481309242454104</li><li>0.0435774822431103</li><li>0.0264018766103264</li><li>0.0170209487323261</li><li>0.00632607798976714</li><li>0.00559927914923364</li><li>0.00537290750587971</li><li>0.00302980108988482</li><li>0.00233837511086676</li><li>0.00184530618837098</li><li>0.00159891285461899</li><li>0.00048396952074814</li><li>0.000155706842861925</li><li>2.87532974461158e-05</li><li>2.87532974461158e-05</li></ol>\n",
       "</dd>\n",
       "\t<dt>$`Column Index`</dt>\n",
       "\t\t<dd><style>\n",
       ".list-inline {list-style: none; margin:0; padding: 0}\n",
       ".list-inline>li {display: inline-block}\n",
       ".list-inline>li:not(:last-child)::after {content: \"\\00b7\"; padding: 0 .5ex}\n",
       "</style>\n",
       "<ol class=list-inline><li>17</li><li>5</li><li>1</li><li>15</li><li>3</li><li>7</li><li>16</li><li>12</li><li>11</li><li>6</li><li>8</li><li>9</li><li>4</li><li>10</li><li>2</li><li>13</li><li>14</li></ol>\n",
       "</dd>\n",
       "</dl>\n"
      ],
      "text/latex": [
       "\\begin{description}\n",
       "\\item[\\$`Mutual Informarion`] \\begin{enumerate*}\n",
       "\\item 1.6094379124341\n",
       "\\item 0.0855525637392693\n",
       "\\item 0.0481309242454104\n",
       "\\item 0.0435774822431103\n",
       "\\item 0.0264018766103264\n",
       "\\item 0.0170209487323261\n",
       "\\item 0.00632607798976714\n",
       "\\item 0.00559927914923364\n",
       "\\item 0.00537290750587971\n",
       "\\item 0.00302980108988482\n",
       "\\item 0.00233837511086676\n",
       "\\item 0.00184530618837098\n",
       "\\item 0.00159891285461899\n",
       "\\item 0.00048396952074814\n",
       "\\item 0.000155706842861925\n",
       "\\item 2.87532974461158e-05\n",
       "\\item 2.87532974461158e-05\n",
       "\\end{enumerate*}\n",
       "\n",
       "\\item[\\$`Column Index`] \\begin{enumerate*}\n",
       "\\item 17\n",
       "\\item 5\n",
       "\\item 1\n",
       "\\item 15\n",
       "\\item 3\n",
       "\\item 7\n",
       "\\item 16\n",
       "\\item 12\n",
       "\\item 11\n",
       "\\item 6\n",
       "\\item 8\n",
       "\\item 9\n",
       "\\item 4\n",
       "\\item 10\n",
       "\\item 2\n",
       "\\item 13\n",
       "\\item 14\n",
       "\\end{enumerate*}\n",
       "\n",
       "\\end{description}\n"
      ],
      "text/markdown": [
       "$`Mutual Informarion`\n",
       ":   1. 1.6094379124341\n",
       "2. 0.0855525637392693\n",
       "3. 0.0481309242454104\n",
       "4. 0.0435774822431103\n",
       "5. 0.0264018766103264\n",
       "6. 0.0170209487323261\n",
       "7. 0.00632607798976714\n",
       "8. 0.00559927914923364\n",
       "9. 0.00537290750587971\n",
       "10. 0.00302980108988482\n",
       "11. 0.00233837511086676\n",
       "12. 0.00184530618837098\n",
       "13. 0.00159891285461899\n",
       "14. 0.00048396952074814\n",
       "15. 0.000155706842861925\n",
       "16. 2.87532974461158e-05\n",
       "17. 2.87532974461158e-05\n",
       "\n",
       "\n",
       "\n",
       "$`Column Index`\n",
       ":   1. 17\n",
       "2. 5\n",
       "3. 1\n",
       "4. 15\n",
       "5. 3\n",
       "6. 7\n",
       "7. 16\n",
       "8. 12\n",
       "9. 11\n",
       "10. 6\n",
       "11. 8\n",
       "12. 9\n",
       "13. 4\n",
       "14. 10\n",
       "15. 2\n",
       "16. 13\n",
       "17. 14\n",
       "\n",
       "\n",
       "\n",
       "\n",
       "\n"
      ],
      "text/plain": [
       "$`Mutual Informarion`\n",
       " [1] 1.6094379124 0.0855525637 0.0481309242 0.0435774822 0.0264018766\n",
       " [6] 0.0170209487 0.0063260780 0.0055992791 0.0053729075 0.0030298011\n",
       "[11] 0.0023383751 0.0018453062 0.0015989129 0.0004839695 0.0001557068\n",
       "[16] 0.0000287533 0.0000287533\n",
       "\n",
       "$`Column Index`\n",
       " [1] 17  5  1 15  3  7 16 12 11  6  8  9  4 10  2 13 14\n"
      ]
     },
     "metadata": {},
     "output_type": "display_data"
    }
   ],
   "source": [
    "uncertainty2 = sort(mi_matrix2[,17], index=TRUE, decreasing = TRUE)\n",
    "names(uncertainty2) = c(\"Mutual Informarion\", \"Column Index\")\n",
    "uncertainty2"
   ]
  },
  {
   "cell_type": "code",
   "execution_count": 196,
   "id": "bc97f494-d96b-4fa2-b321-d4f6e9106859",
   "metadata": {},
   "outputs": [
    {
     "data": {
      "text/html": [
       "0.053156796592346"
      ],
      "text/latex": [
       "0.053156796592346"
      ],
      "text/markdown": [
       "0.053156796592346"
      ],
      "text/plain": [
       "[1] 0.0531568"
      ]
     },
     "metadata": {},
     "output_type": "display_data"
    }
   ],
   "source": [
    "uncertainty2$\"Mutual Informarion\"[2] / uncertainty2$\"Mutual Informarion\"[1]"
   ]
  },
  {
   "cell_type": "markdown",
   "id": "9c2d2207-77ba-457c-915e-863e9798dd55",
   "metadata": {},
   "source": [
    "Above numbers are showing the connection between each feature and the response variable in decreasing order. <br>\n",
    "The first value is our uncertainty about the response variable. <br>\n",
    "\n",
    "The most informative feature (variable 5:Purchase.Amount..USD.) only explaines 5% of the uncertainty in the response variable and most of the other features are almost uninformative. This could be one of the reasons that our model accuracy was very low. In other words, our features are not informative."
   ]
  },
  {
   "cell_type": "code",
   "execution_count": null,
   "id": "46014816-4678-4546-bc0b-71673783525c",
   "metadata": {},
   "outputs": [],
   "source": []
  }
 ],
 "metadata": {
  "kernelspec": {
   "display_name": "R",
   "language": "R",
   "name": "ir"
  },
  "language_info": {
   "codemirror_mode": "r",
   "file_extension": ".r",
   "mimetype": "text/x-r-source",
   "name": "R",
   "pygments_lexer": "r",
   "version": "4.3.1"
  }
 },
 "nbformat": 4,
 "nbformat_minor": 5
}
